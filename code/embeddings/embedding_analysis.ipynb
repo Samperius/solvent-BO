{
 "cells": [
  {
   "cell_type": "markdown",
   "metadata": {},
   "source": [
    "Initilization"
   ]
  },
  {
   "cell_type": "code",
   "execution_count": 1,
   "metadata": {},
   "outputs": [
    {
     "name": "stderr",
     "output_type": "stream",
     "text": [
      "/home/kinnunes/.conda/envs/vlab/lib/python3.12/site-packages/tqdm/auto.py:21: TqdmWarning: IProgress not found. Please update jupyter and ipywidgets. See https://ipywidgets.readthedocs.io/en/stable/user_install.html\n",
      "  from .autonotebook import tqdm as notebook_tqdm\n",
      "/home/kinnunes/.conda/envs/vlab/lib/python3.12/site-packages/huggingface_hub/file_download.py:1132: FutureWarning: `resume_download` is deprecated and will be removed in version 1.0.0. Downloads always resume when possible. If you want to force a new download, use `force_download=True`.\n",
      "  warnings.warn(\n",
      "Some weights of the model checkpoint at seyonec/PubChem10M_SMILES_BPE_450k were not used when initializing RobertaForMaskedLM: ['roberta.pooler.dense.bias', 'roberta.pooler.dense.weight']\n",
      "- This IS expected if you are initializing RobertaForMaskedLM from the checkpoint of a model trained on another task or with another architecture (e.g. initializing a BertForSequenceClassification model from a BertForPreTraining model).\n",
      "- This IS NOT expected if you are initializing RobertaForMaskedLM from the checkpoint of a model that you expect to be exactly identical (initializing a BertForSequenceClassification model from a BertForSequenceClassification model).\n"
     ]
    }
   ],
   "source": [
    "import utils\n",
    "import torch\n",
    "import pickle\n",
    "from embedding import Chemberta_embedding\n",
    "from autoencoder import Dimensionality_reduction_with_AE\n",
    "from embedding import Compound\n",
    "emb = Chemberta_embedding()"
   ]
  },
  {
   "cell_type": "markdown",
   "metadata": {},
   "source": [
    "Reading 50 common solvents from https://organicchemistrydata.org/solvents/"
   ]
  },
  {
   "cell_type": "code",
   "execution_count": 2,
   "metadata": {},
   "outputs": [
    {
     "name": "stdout",
     "output_type": "stream",
     "text": [
      "number of solvents:  50\n",
      "['acetic acid', 'acetone', 'acetonitrile', 'benzene', '1-butanol', '2-butanol', '2-butanone', 't-butyl alcohol', 'carbon tetrachloride', 'chlorobenzene', 'chloroform', 'cyclohexane', '1,2-dichloroethane', 'diethylene glycol', 'diethyl ether', 'diglyme (diethylene glycol dimethyl ether)', '1,2-dimethoxy-ethane (glyme, DME)', 'dimethylformamide', 'dimethyl sulfoxide (DMSO)', '1,4-dioxane', 'ethanol', 'ethyl acetate', 'ethylene glycol', 'glycerin', 'heptane', 'hexamethylphosphoramide\\n', '(HMPA)', 'hexamethylphosphorous\\n', 'triamide (HMPT)', 'hexane', 'methanol', 'methyl t-butyl\\n', 'ether (MTBE)', 'methylene chloride', 'N-methyl-2-pyrrolidinone\\n', '(NMP)', 'nitromethane', 'pentane', 'petroleum ether (ligroine)', '1-propanol', '2-propanol', 'pyridine', 'Tetrahydrofuran\\tC4H8O \\t72.106 \\t65 \\t-108.4 \\t0.8833 \\tsoluble² \\t7.52 \\t-14\\n', 'toluene', 'triethyl amine', 'water', 'water, heavy', 'o-xylene', 'm-xylene', 'p-xylene']\n"
     ]
    }
   ],
   "source": [
    "f = open('list_of_solvents.txt', 'r')\n",
    "solvents = f.readlines()\n",
    "for i, solvent in enumerate(solvents):\n",
    "    solvent = solvent.split(' ')\n",
    "    solvent_len = len(solvent)\n",
    "    solvent = solvent[0:solvent_len-8]\n",
    "    solvent = \" \".join(solvent)\n",
    "    if len(solvent) > 0:\n",
    "        solvents[i] = solvent\n",
    "print('number of solvents: ', len(solvents))\n",
    "print(solvents)"
   ]
  },
  {
   "cell_type": "markdown",
   "metadata": {},
   "source": [
    "Encoding solvent names to smiles and smiles to embedding"
   ]
  },
  {
   "cell_type": "code",
   "execution_count": 3,
   "metadata": {},
   "outputs": [],
   "source": [
    "import pubchempy as pcp\n",
    "from embedding import Compound\n",
    "\n",
    "LOAD = True\n",
    "\n",
    "if LOAD:\n",
    "    with open('solvent.pickle', 'rb') as handle:\n",
    "        solvent_dict = pickle.load(handle)\n",
    "\n",
    "else:\n",
    "    solvent_dict = {}\n",
    "\n",
    "    for i, solvent in enumerate(solvents):\n",
    "        print('solvent:', solvent)\n",
    "        smiles = utils.name_to_smiles(solvent)\n",
    "        solvent_name = utils.smiles_to_iupac(smiles, solvent)\n",
    "        if smiles is None:\n",
    "            print('Could not find smiles for', solvent)\n",
    "            continue\n",
    "        else:\n",
    "            s = Compound(solvent_name, smiles=smiles)\n",
    "            s.chemberta_embedding = emb.create_embedding(s.smiles)\n",
    "            solvent_dict[solvent] = s\n",
    "            print(s.name, s.smiles)\n",
    "\n"
   ]
  },
  {
   "cell_type": "code",
   "execution_count": 4,
   "metadata": {},
   "outputs": [
    {
     "data": {
      "text/plain": [
       "torch.Size([3, 768])"
      ]
     },
     "execution_count": 4,
     "metadata": {},
     "output_type": "execute_result"
    }
   ],
   "source": [
    "solvent_dict['ethanol'].chemberta_embedding.shape"
   ]
  },
  {
   "cell_type": "code",
   "execution_count": 5,
   "metadata": {},
   "outputs": [],
   "source": [
    "\n",
    "with open('solvent.pickle', 'wb') as handle:\n",
    "    pickle.dump(solvent_dict, handle, protocol=pickle.HIGHEST_PROTOCOL)"
   ]
  },
  {
   "cell_type": "markdown",
   "metadata": {},
   "source": [
    "Train dimensionality reduction with the data using cls-token embeddings"
   ]
  },
  {
   "cell_type": "code",
   "execution_count": 5,
   "metadata": {},
   "outputs": [
    {
     "name": "stdout",
     "output_type": "stream",
     "text": [
      "embeddings shape:  torch.Size([40, 768])\n",
      "Epoch 1/100, Loss: 0.8500799879431724\n",
      "Epoch 2/100, Loss: 0.7326344236731529\n",
      "Epoch 3/100, Loss: 0.7185343235731125\n",
      "Epoch 4/100, Loss: 0.715408056974411\n",
      "Epoch 5/100, Loss: 0.7141197443008422\n",
      "Epoch 6/100, Loss: 0.7130813911557198\n",
      "Epoch 7/100, Loss: 0.709509140253067\n",
      "Epoch 8/100, Loss: 0.6966065347194672\n",
      "Epoch 9/100, Loss: 0.6883975625038147\n",
      "Epoch 10/100, Loss: 0.6825741186738015\n",
      "Epoch 11/100, Loss: 0.6806193470954895\n",
      "Epoch 12/100, Loss: 0.6857540011405945\n",
      "Epoch 13/100, Loss: 0.6817186295986175\n",
      "Epoch 14/100, Loss: 0.6781784489750862\n",
      "Epoch 15/100, Loss: 0.6734054401516915\n",
      "Epoch 16/100, Loss: 0.6711967766284943\n",
      "Epoch 17/100, Loss: 0.6715612053871155\n",
      "Epoch 18/100, Loss: 0.673320172727108\n",
      "Epoch 19/100, Loss: 0.6743556380271911\n",
      "Epoch 20/100, Loss: 0.6684368282556534\n",
      "Epoch 21/100, Loss: 0.6666501820087433\n",
      "Epoch 22/100, Loss: 0.6645916014909744\n",
      "Epoch 23/100, Loss: 0.6631336525082588\n",
      "Epoch 24/100, Loss: 0.6609859019517899\n",
      "Epoch 25/100, Loss: 0.6597418129444123\n",
      "Epoch 26/100, Loss: 0.6586352065205574\n",
      "Epoch 27/100, Loss: 0.6593886554241181\n",
      "Epoch 28/100, Loss: 0.658918471634388\n",
      "Epoch 29/100, Loss: 0.6610358729958534\n",
      "Epoch 30/100, Loss: 0.6573327466845512\n",
      "Epoch 31/100, Loss: 0.6562141224741935\n",
      "Epoch 32/100, Loss: 0.6583458185195923\n",
      "Epoch 33/100, Loss: 0.6640218570828438\n",
      "Epoch 34/100, Loss: 0.6615519970655441\n",
      "Epoch 35/100, Loss: 0.6575804308056832\n",
      "Epoch 36/100, Loss: 0.6606393530964851\n",
      "Epoch 37/100, Loss: 0.6534115165472031\n",
      "Epoch 38/100, Loss: 0.6510905206203461\n",
      "Epoch 39/100, Loss: 0.6506119593977928\n",
      "Epoch 40/100, Loss: 0.6496650516986847\n",
      "Epoch 41/100, Loss: 0.6490716844797134\n",
      "Epoch 42/100, Loss: 0.6480064108967781\n",
      "Epoch 43/100, Loss: 0.6459017053246499\n",
      "Epoch 44/100, Loss: 0.6447199672460556\n",
      "Epoch 45/100, Loss: 0.6443242192268371\n",
      "Epoch 46/100, Loss: 0.643575231730938\n",
      "Epoch 47/100, Loss: 0.6440646767616272\n",
      "Epoch 48/100, Loss: 0.6433544278144836\n",
      "Epoch 49/100, Loss: 0.6436176121234893\n",
      "Epoch 50/100, Loss: 0.644662718474865\n",
      "Epoch 51/100, Loss: 0.6440402925014496\n",
      "Epoch 52/100, Loss: 0.6410274714231491\n",
      "Epoch 53/100, Loss: 0.6426868945360183\n",
      "Epoch 54/100, Loss: 0.6420647963881493\n",
      "Epoch 55/100, Loss: 0.6404698580503464\n",
      "Epoch 56/100, Loss: 0.6423678413033486\n",
      "Epoch 57/100, Loss: 0.6391775757074356\n",
      "Epoch 58/100, Loss: 0.6384047776460647\n",
      "Epoch 59/100, Loss: 0.6377945661544799\n",
      "Epoch 60/100, Loss: 0.6361537158489228\n",
      "Epoch 61/100, Loss: 0.6396814927458763\n",
      "Epoch 62/100, Loss: 0.6461574584245682\n",
      "Epoch 63/100, Loss: 0.6405035302042961\n",
      "Epoch 64/100, Loss: 0.6405063524842263\n",
      "Epoch 65/100, Loss: 0.6366900086402894\n",
      "Epoch 66/100, Loss: 0.636425732076168\n",
      "Epoch 67/100, Loss: 0.6388790071010589\n",
      "Epoch 68/100, Loss: 0.635860937833786\n",
      "Epoch 69/100, Loss: 0.6381853729486465\n",
      "Epoch 70/100, Loss: 0.6415378540754318\n",
      "Epoch 71/100, Loss: 0.6362807735800743\n",
      "Epoch 72/100, Loss: 0.6373299196362495\n",
      "Epoch 73/100, Loss: 0.6333797991275787\n",
      "Epoch 74/100, Loss: 0.6335878774523735\n",
      "Epoch 75/100, Loss: 0.6336631968617439\n",
      "Epoch 76/100, Loss: 0.6324136197566986\n",
      "Epoch 77/100, Loss: 0.6323150530457496\n",
      "Epoch 78/100, Loss: 0.6308566436171532\n",
      "Epoch 79/100, Loss: 0.632923138141632\n",
      "Epoch 80/100, Loss: 0.6320089489221573\n",
      "Epoch 81/100, Loss: 0.6308517038822175\n",
      "Epoch 82/100, Loss: 0.6305138573050499\n",
      "Epoch 83/100, Loss: 0.6288348510861397\n",
      "Epoch 84/100, Loss: 0.6286802932620048\n",
      "Epoch 85/100, Loss: 0.6275335371494293\n",
      "Epoch 86/100, Loss: 0.6282333180308342\n",
      "Epoch 87/100, Loss: 0.6308616772294044\n",
      "Epoch 88/100, Loss: 0.6318103075027466\n",
      "Epoch 89/100, Loss: 0.641126012802124\n",
      "Epoch 90/100, Loss: 0.6409149631857872\n",
      "Epoch 91/100, Loss: 0.6312997251749038\n",
      "Epoch 92/100, Loss: 0.6299606710672379\n",
      "Epoch 93/100, Loss: 0.6293082788586617\n",
      "Epoch 94/100, Loss: 0.6303613647818566\n",
      "Epoch 95/100, Loss: 0.6275795489549637\n",
      "Epoch 96/100, Loss: 0.6269639134407043\n",
      "Epoch 97/100, Loss: 0.6268775582313537\n",
      "Epoch 98/100, Loss: 0.6257134467363358\n",
      "Epoch 99/100, Loss: 0.6259416148066521\n",
      "Epoch 100/100, Loss: 0.6269146159291268\n"
     ]
    }
   ],
   "source": [
    "for i, solvent in enumerate(solvent_dict):\n",
    "    solvent = solvent_dict[solvent]\n",
    "    if solvent.chemberta_embedding is not None:\n",
    "        class_token_embedding = solvent.chemberta_embedding[0,:]\n",
    "        class_token_embedding = class_token_embedding.reshape(1,-1)\n",
    "        if i == 0:\n",
    "            embeddings = class_token_embedding # embeddings into single tensor for training AE\n",
    "        else:\n",
    "            embeddings = torch.cat((embeddings, class_token_embedding), 0)\n",
    "\n",
    "print('embeddings shape: ', embeddings.shape)\n",
    "\n",
    "#train reduce dimensions\n",
    "dimensionality_reduction = Dimensionality_reduction_with_AE(embeddings.shape[1], 2)\n",
    "dimensionality_reduction.train(embeddings, 100)"
   ]
  },
  {
   "cell_type": "code",
   "execution_count": 34,
   "metadata": {},
   "outputs": [
    {
     "data": {
      "text/plain": [
       "Text(0.5, 1.0, 'Chemical descriptors in 2D vector space')"
      ]
     },
     "execution_count": 34,
     "metadata": {},
     "output_type": "execute_result"
    },
    {
     "data": {
      "image/png": "[encoded data removed]",
      "text/plain": [
       "<Figure size 400x400 with 1 Axes>"
      ]
     },
     "metadata": {},
     "output_type": "display_data"
    }
   ],
   "source": [
    "import matplotlib.pyplot as plt\n",
    "import numpy as np\n",
    "#import plotly.graph_objects as go\n",
    "solvents_to_plot = ['ethanol', 'methanol', 'toluene', 'ethyl acetate']\n",
    "#fig = plt.subplot(2,2,1)\n",
    "fig = plt.figure(figsize=(4,4))\n",
    "for i, solvent in enumerate(solvents_to_plot):\n",
    "    solvent = solvent_dict[solvent]\n",
    "    if solvent.chemberta_embedding is not None:\n",
    "        embedding = solvent.chemberta_embedding[0,:]\n",
    "        embedding = embedding.reshape((1,embedding.shape[0]))\n",
    "        reduced_embedding = dimensionality_reduction.reduce_dimension(embedding)\n",
    "        x = reduced_embedding[0][0].item()\n",
    "        y = reduced_embedding[0][1].item()\n",
    "        \n",
    "        plt.scatter(x,y, label=solvents_to_plot[i])\n",
    "        plt.annotate(solvents_to_plot[i], (x,y))\n",
    "#plt.legend()\n",
    "plt.xticks(ticks=[-25,-12.5,0],labels = [])\n",
    "plt.yticks(ticks=[-10,-0,10],labels = [])\n",
    "plt.title('Chemical descriptors in 2D vector space')\n",
    "# Show the plot\n",
    "\n"
   ]
  },
  {
   "cell_type": "code",
   "execution_count": null,
   "metadata": {},
   "outputs": [],
   "source": []
  },
  {
   "cell_type": "code",
   "execution_count": 8,
   "metadata": {},
   "outputs": [
    {
     "data": {
      "application/vnd.plotly.v1+json": {
       "config": {
        "plotlyServerURL": "https://plot.ly"
       },
       "data": [
        {
         "marker": {
          "size": 10
         },
         "mode": "markers",
         "name": "ethanol",
         "text": "ethanol",
         "type": "scatter",
         "x": [
          1.865077018737793
         ],
         "y": [
          5.246422290802002
         ]
        },
        {
         "marker": {
          "size": 10
         },
         "mode": "markers",
         "name": "methanol",
         "text": "methanol",
         "type": "scatter",
         "x": [
          1.8323931694030762
         ],
         "y": [
          8.657504081726074
         ]
        },
        {
         "marker": {
          "size": 10
         },
         "mode": "markers",
         "name": "toluene",
         "text": "toluene",
         "type": "scatter",
         "x": [
          -4.035546779632568
         ],
         "y": [
          -10.506888389587402
         ]
        },
        {
         "marker": {
          "size": 10
         },
         "mode": "markers",
         "name": "ethyl acetate",
         "text": "ethyl acetate",
         "type": "scatter",
         "x": [
          -13.683091163635254
         ],
         "y": [
          15.593462944030762
         ]
        }
       ],
       "layout": {
        "template": {
         "data": {
          "bar": [
           {
            "error_x": {
             "color": "#2a3f5f"
            },
            "error_y": {
             "color": "#2a3f5f"
            },
            "marker": {
             "line": {
              "color": "#E5ECF6",
              "width": 0.5
             },
             "pattern": {
              "fillmode": "overlay",
              "size": 10,
              "solidity": 0.2
             }
            },
            "type": "bar"
           }
          ],
          "barpolar": [
           {
            "marker": {
             "line": {
              "color": "#E5ECF6",
              "width": 0.5
             },
             "pattern": {
              "fillmode": "overlay",
              "size": 10,
              "solidity": 0.2
             }
            },
            "type": "barpolar"
           }
          ],
          "carpet": [
           {
            "aaxis": {
             "endlinecolor": "#2a3f5f",
             "gridcolor": "white",
             "linecolor": "white",
             "minorgridcolor": "white",
             "startlinecolor": "#2a3f5f"
            },
            "baxis": {
             "endlinecolor": "#2a3f5f",
             "gridcolor": "white",
             "linecolor": "white",
             "minorgridcolor": "white",
             "startlinecolor": "#2a3f5f"
            },
            "type": "carpet"
           }
          ],
          "choropleth": [
           {
            "colorbar": {
             "outlinewidth": 0,
             "ticks": ""
            },
            "type": "choropleth"
           }
          ],
          "contour": [
           {
            "colorbar": {
             "outlinewidth": 0,
             "ticks": ""
            },
            "colorscale": [
             [
              0,
              "#0d0887"
             ],
             [
              0.1111111111111111,
              "#46039f"
             ],
             [
              0.2222222222222222,
              "#7201a8"
             ],
             [
              0.3333333333333333,
              "#9c179e"
             ],
             [
              0.4444444444444444,
              "#bd3786"
             ],
             [
              0.5555555555555556,
              "#d8576b"
             ],
             [
              0.6666666666666666,
              "#ed7953"
             ],
             [
              0.7777777777777778,
              "#fb9f3a"
             ],
             [
              0.8888888888888888,
              "#fdca26"
             ],
             [
              1,
              "#f0f921"
             ]
            ],
            "type": "contour"
           }
          ],
          "contourcarpet": [
           {
            "colorbar": {
             "outlinewidth": 0,
             "ticks": ""
            },
            "type": "contourcarpet"
           }
          ],
          "heatmap": [
           {
            "colorbar": {
             "outlinewidth": 0,
             "ticks": ""
            },
            "colorscale": [
             [
              0,
              "#0d0887"
             ],
             [
              0.1111111111111111,
              "#46039f"
             ],
             [
              0.2222222222222222,
              "#7201a8"
             ],
             [
              0.3333333333333333,
              "#9c179e"
             ],
             [
              0.4444444444444444,
              "#bd3786"
             ],
             [
              0.5555555555555556,
              "#d8576b"
             ],
             [
              0.6666666666666666,
              "#ed7953"
             ],
             [
              0.7777777777777778,
              "#fb9f3a"
             ],
             [
              0.8888888888888888,
              "#fdca26"
             ],
             [
              1,
              "#f0f921"
             ]
            ],
            "type": "heatmap"
           }
          ],
          "heatmapgl": [
           {
            "colorbar": {
             "outlinewidth": 0,
             "ticks": ""
            },
            "colorscale": [
             [
              0,
              "#0d0887"
             ],
             [
              0.1111111111111111,
              "#46039f"
             ],
             [
              0.2222222222222222,
              "#7201a8"
             ],
             [
              0.3333333333333333,
              "#9c179e"
             ],
             [
              0.4444444444444444,
              "#bd3786"
             ],
             [
              0.5555555555555556,
              "#d8576b"
             ],
             [
              0.6666666666666666,
              "#ed7953"
             ],
             [
              0.7777777777777778,
              "#fb9f3a"
             ],
             [
              0.8888888888888888,
              "#fdca26"
             ],
             [
              1,
              "#f0f921"
             ]
            ],
            "type": "heatmapgl"
           }
          ],
          "histogram": [
           {
            "marker": {
             "pattern": {
              "fillmode": "overlay",
              "size": 10,
              "solidity": 0.2
             }
            },
            "type": "histogram"
           }
          ],
          "histogram2d": [
           {
            "colorbar": {
             "outlinewidth": 0,
             "ticks": ""
            },
            "colorscale": [
             [
              0,
              "#0d0887"
             ],
             [
              0.1111111111111111,
              "#46039f"
             ],
             [
              0.2222222222222222,
              "#7201a8"
             ],
             [
              0.3333333333333333,
              "#9c179e"
             ],
             [
              0.4444444444444444,
              "#bd3786"
             ],
             [
              0.5555555555555556,
              "#d8576b"
             ],
             [
              0.6666666666666666,
              "#ed7953"
             ],
             [
              0.7777777777777778,
              "#fb9f3a"
             ],
             [
              0.8888888888888888,
              "#fdca26"
             ],
             [
              1,
              "#f0f921"
             ]
            ],
            "type": "histogram2d"
           }
          ],
          "histogram2dcontour": [
           {
            "colorbar": {
             "outlinewidth": 0,
             "ticks": ""
            },
            "colorscale": [
             [
              0,
              "#0d0887"
             ],
             [
              0.1111111111111111,
              "#46039f"
             ],
             [
              0.2222222222222222,
              "#7201a8"
             ],
             [
              0.3333333333333333,
              "#9c179e"
             ],
             [
              0.4444444444444444,
              "#bd3786"
             ],
             [
              0.5555555555555556,
              "#d8576b"
             ],
             [
              0.6666666666666666,
              "#ed7953"
             ],
             [
              0.7777777777777778,
              "#fb9f3a"
             ],
             [
              0.8888888888888888,
              "#fdca26"
             ],
             [
              1,
              "#f0f921"
             ]
            ],
            "type": "histogram2dcontour"
           }
          ],
          "mesh3d": [
           {
            "colorbar": {
             "outlinewidth": 0,
             "ticks": ""
            },
            "type": "mesh3d"
           }
          ],
          "parcoords": [
           {
            "line": {
             "colorbar": {
              "outlinewidth": 0,
              "ticks": ""
             }
            },
            "type": "parcoords"
           }
          ],
          "pie": [
           {
            "automargin": true,
            "type": "pie"
           }
          ],
          "scatter": [
           {
            "fillpattern": {
             "fillmode": "overlay",
             "size": 10,
             "solidity": 0.2
            },
            "type": "scatter"
           }
          ],
          "scatter3d": [
           {
            "line": {
             "colorbar": {
              "outlinewidth": 0,
              "ticks": ""
             }
            },
            "marker": {
             "colorbar": {
              "outlinewidth": 0,
              "ticks": ""
             }
            },
            "type": "scatter3d"
           }
          ],
          "scattercarpet": [
           {
            "marker": {
             "colorbar": {
              "outlinewidth": 0,
              "ticks": ""
             }
            },
            "type": "scattercarpet"
           }
          ],
          "scattergeo": [
           {
            "marker": {
             "colorbar": {
              "outlinewidth": 0,
              "ticks": ""
             }
            },
            "type": "scattergeo"
           }
          ],
          "scattergl": [
           {
            "marker": {
             "colorbar": {
              "outlinewidth": 0,
              "ticks": ""
             }
            },
            "type": "scattergl"
           }
          ],
          "scattermapbox": [
           {
            "marker": {
             "colorbar": {
              "outlinewidth": 0,
              "ticks": ""
             }
            },
            "type": "scattermapbox"
           }
          ],
          "scatterpolar": [
           {
            "marker": {
             "colorbar": {
              "outlinewidth": 0,
              "ticks": ""
             }
            },
            "type": "scatterpolar"
           }
          ],
          "scatterpolargl": [
           {
            "marker": {
             "colorbar": {
              "outlinewidth": 0,
              "ticks": ""
             }
            },
            "type": "scatterpolargl"
           }
          ],
          "scatterternary": [
           {
            "marker": {
             "colorbar": {
              "outlinewidth": 0,
              "ticks": ""
             }
            },
            "type": "scatterternary"
           }
          ],
          "surface": [
           {
            "colorbar": {
             "outlinewidth": 0,
             "ticks": ""
            },
            "colorscale": [
             [
              0,
              "#0d0887"
             ],
             [
              0.1111111111111111,
              "#46039f"
             ],
             [
              0.2222222222222222,
              "#7201a8"
             ],
             [
              0.3333333333333333,
              "#9c179e"
             ],
             [
              0.4444444444444444,
              "#bd3786"
             ],
             [
              0.5555555555555556,
              "#d8576b"
             ],
             [
              0.6666666666666666,
              "#ed7953"
             ],
             [
              0.7777777777777778,
              "#fb9f3a"
             ],
             [
              0.8888888888888888,
              "#fdca26"
             ],
             [
              1,
              "#f0f921"
             ]
            ],
            "type": "surface"
           }
          ],
          "table": [
           {
            "cells": {
             "fill": {
              "color": "#EBF0F8"
             },
             "line": {
              "color": "white"
             }
            },
            "header": {
             "fill": {
              "color": "#C8D4E3"
             },
             "line": {
              "color": "white"
             }
            },
            "type": "table"
           }
          ]
         },
         "layout": {
          "annotationdefaults": {
           "arrowcolor": "#2a3f5f",
           "arrowhead": 0,
           "arrowwidth": 1
          },
          "autotypenumbers": "strict",
          "coloraxis": {
           "colorbar": {
            "outlinewidth": 0,
            "ticks": ""
           }
          },
          "colorscale": {
           "diverging": [
            [
             0,
             "#8e0152"
            ],
            [
             0.1,
             "#c51b7d"
            ],
            [
             0.2,
             "#de77ae"
            ],
            [
             0.3,
             "#f1b6da"
            ],
            [
             0.4,
             "#fde0ef"
            ],
            [
             0.5,
             "#f7f7f7"
            ],
            [
             0.6,
             "#e6f5d0"
            ],
            [
             0.7,
             "#b8e186"
            ],
            [
             0.8,
             "#7fbc41"
            ],
            [
             0.9,
             "#4d9221"
            ],
            [
             1,
             "#276419"
            ]
           ],
           "sequential": [
            [
             0,
             "#0d0887"
            ],
            [
             0.1111111111111111,
             "#46039f"
            ],
            [
             0.2222222222222222,
             "#7201a8"
            ],
            [
             0.3333333333333333,
             "#9c179e"
            ],
            [
             0.4444444444444444,
             "#bd3786"
            ],
            [
             0.5555555555555556,
             "#d8576b"
            ],
            [
             0.6666666666666666,
             "#ed7953"
            ],
            [
             0.7777777777777778,
             "#fb9f3a"
            ],
            [
             0.8888888888888888,
             "#fdca26"
            ],
            [
             1,
             "#f0f921"
            ]
           ],
           "sequentialminus": [
            [
             0,
             "#0d0887"
            ],
            [
             0.1111111111111111,
             "#46039f"
            ],
            [
             0.2222222222222222,
             "#7201a8"
            ],
            [
             0.3333333333333333,
             "#9c179e"
            ],
            [
             0.4444444444444444,
             "#bd3786"
            ],
            [
             0.5555555555555556,
             "#d8576b"
            ],
            [
             0.6666666666666666,
             "#ed7953"
            ],
            [
             0.7777777777777778,
             "#fb9f3a"
            ],
            [
             0.8888888888888888,
             "#fdca26"
            ],
            [
             1,
             "#f0f921"
            ]
           ]
          },
          "colorway": [
           "#636efa",
           "#EF553B",
           "#00cc96",
           "#ab63fa",
           "#FFA15A",
           "#19d3f3",
           "#FF6692",
           "#B6E880",
           "#FF97FF",
           "#FECB52"
          ],
          "font": {
           "color": "#2a3f5f"
          },
          "geo": {
           "bgcolor": "white",
           "lakecolor": "white",
           "landcolor": "#E5ECF6",
           "showlakes": true,
           "showland": true,
           "subunitcolor": "white"
          },
          "hoverlabel": {
           "align": "left"
          },
          "hovermode": "closest",
          "mapbox": {
           "style": "light"
          },
          "paper_bgcolor": "white",
          "plot_bgcolor": "#E5ECF6",
          "polar": {
           "angularaxis": {
            "gridcolor": "white",
            "linecolor": "white",
            "ticks": ""
           },
           "bgcolor": "#E5ECF6",
           "radialaxis": {
            "gridcolor": "white",
            "linecolor": "white",
            "ticks": ""
           }
          },
          "scene": {
           "xaxis": {
            "backgroundcolor": "#E5ECF6",
            "gridcolor": "white",
            "gridwidth": 2,
            "linecolor": "white",
            "showbackground": true,
            "ticks": "",
            "zerolinecolor": "white"
           },
           "yaxis": {
            "backgroundcolor": "#E5ECF6",
            "gridcolor": "white",
            "gridwidth": 2,
            "linecolor": "white",
            "showbackground": true,
            "ticks": "",
            "zerolinecolor": "white"
           },
           "zaxis": {
            "backgroundcolor": "#E5ECF6",
            "gridcolor": "white",
            "gridwidth": 2,
            "linecolor": "white",
            "showbackground": true,
            "ticks": "",
            "zerolinecolor": "white"
           }
          },
          "shapedefaults": {
           "line": {
            "color": "#2a3f5f"
           }
          },
          "ternary": {
           "aaxis": {
            "gridcolor": "white",
            "linecolor": "white",
            "ticks": ""
           },
           "baxis": {
            "gridcolor": "white",
            "linecolor": "white",
            "ticks": ""
           },
           "bgcolor": "#E5ECF6",
           "caxis": {
            "gridcolor": "white",
            "linecolor": "white",
            "ticks": ""
           }
          },
          "title": {
           "x": 0.05
          },
          "xaxis": {
           "automargin": true,
           "gridcolor": "white",
           "linecolor": "white",
           "ticks": "",
           "title": {
            "standoff": 15
           },
           "zerolinecolor": "white",
           "zerolinewidth": 2
          },
          "yaxis": {
           "automargin": true,
           "gridcolor": "white",
           "linecolor": "white",
           "ticks": "",
           "title": {
            "standoff": 15
           },
           "zerolinecolor": "white",
           "zerolinewidth": 2
          }
         }
        },
        "title": {
         "text": "2D ChemBERTa descriptors of solvents using END token"
        }
       }
      }
     },
     "metadata": {},
     "output_type": "display_data"
    }
   ],
   "source": [
    "fig = go.Figure()\n",
    "\n",
    "for i, solvent in enumerate(solvents_to_plot):\n",
    "    solvent = solvent_dict[solvent]\n",
    "    if solvent.chemberta_embedding is not None:\n",
    "        embedding = solvent.chemberta_embedding[-1,:]\n",
    "        embedding = embedding.reshape((1,embedding.shape[0]))\n",
    "        reduced_embedding = dimensionality_reduction.reduce_dimension(embedding)\n",
    "        x = reduced_embedding[0][0].item()\n",
    "        y = reduced_embedding[0][1].item()\n",
    "        \n",
    "        fig.add_trace(go.Scatter(\n",
    "        x=[x],\n",
    "        y=[y],\n",
    "        mode='markers',\n",
    "        name=solvent.name,\n",
    "        marker=dict(size=10),\n",
    "        text=solvent.name,\n",
    "    ))\n",
    "\n",
    "fig.update_layout(title='2D ChemBERTa descriptors of solvents using END token',)\n",
    "# Show the plot\n",
    "fig.show()\n",
    "\n"
   ]
  },
  {
   "cell_type": "code",
   "execution_count": null,
   "metadata": {},
   "outputs": [],
   "source": [
    "import matplotlib.pyplot as plt\n",
    "import numpy as np\n",
    "#import plotly.graph_objects as go\n",
    "solvents_to_plot = ['ethanol', 'methanol', 'toluene', 'ethyl acetate']\n",
    "#fig = plt.subplot(2,2,1)\n",
    "fig = plt.figure(figsize=(5,5))\n",
    "for i, solvent in enumerate(solvents_to_plot):\n",
    "    solvent = solvent_dict[solvent]\n",
    "    if solvent.chemberta_embedding is not None:\n",
    "        embedding = solvent.chemberta_embedding[0,:]\n",
    "        embedding = embedding.reshape((1,embedding.shape[0]))\n",
    "        reduced_embedding = dimensionality_reduction.reduce_dimension(embedding)\n",
    "        x = reduced_embedding[0][0].item()\n",
    "        y = reduced_embedding[0][1].item()\n",
    "        \n",
    "        plt.scatter(x,y, label=solvents_to_plot[i])\n",
    "plt.legend()\n",
    "plt.title('Chemical descriptors in 2D vector space')\n",
    "# Show the plot\n",
    "\n"
   ]
  },
  {
   "cell_type": "code",
   "execution_count": 21,
   "metadata": {},
   "outputs": [
    {
     "name": "stderr",
     "output_type": "stream",
     "text": [
      "/tmp/ipykernel_1281093/3690101503.py:17: UserWarning: FigureCanvasAgg is non-interactive, and thus cannot be shown\n",
      "  fig.show()\n"
     ]
    },
    {
     "data": {
      "image/png": "[encoded data removed]",
      "text/plain": [
       "<Figure size 500x500 with 1 Axes>"
      ]
     },
     "metadata": {},
     "output_type": "display_data"
    }
   ],
   "source": [
    "fig = plt.figure(figsize=(5,5))\n",
    "\n",
    "\n",
    "for i, solvent in enumerate(solvents_to_plot):\n",
    "    solvent = solvent_dict[solvent]\n",
    "    if solvent.chemberta_embedding is not None:\n",
    "        embedding = solvent.chemberta_embedding.mean(axis=0)\n",
    "        embedding = embedding.reshape((1,embedding.shape[0]))\n",
    "        reduced_embedding = dimensionality_reduction.reduce_dimension(embedding)\n",
    "        x = reduced_embedding[0][0].item()\n",
    "        y = reduced_embedding[0][1].item()\n",
    "        \n",
    "        plt.scatter(x,y, label=solvents_to_plot[i])\n",
    "plt.legend()\n",
    "plt.title('2D ChemBERTa descriptors of solvents using mean of all tokens')\n",
    "# Show the plot\n",
    "fig.show()\n",
    "\n"
   ]
  },
  {
   "cell_type": "code",
   "execution_count": 10,
   "metadata": {},
   "outputs": [
    {
     "name": "stdout",
     "output_type": "stream",
     "text": [
      "21\n",
      "embeddings shape:  torch.Size([40, 16128])\n",
      "Epoch 1/50, Loss: 0.3727990582585335\n",
      "Epoch 2/50, Loss: 0.3221457310020924\n",
      "Epoch 3/50, Loss: 0.3185272619128227\n",
      "Epoch 4/50, Loss: 0.30768989585340023\n",
      "Epoch 5/50, Loss: 0.3032715663313866\n",
      "Epoch 6/50, Loss: 0.29198071397840974\n",
      "Epoch 7/50, Loss: 0.28443443067371843\n",
      "Epoch 8/50, Loss: 0.282953187264502\n",
      "Epoch 9/50, Loss: 0.27236232031136753\n",
      "Epoch 10/50, Loss: 0.2702293312177062\n",
      "Epoch 11/50, Loss: 0.274360454082489\n",
      "Epoch 12/50, Loss: 0.2651530265808105\n",
      "Epoch 13/50, Loss: 0.27100046873092654\n",
      "Epoch 14/50, Loss: 0.2654485346749425\n",
      "Epoch 15/50, Loss: 0.2671373592689633\n",
      "Epoch 16/50, Loss: 0.2627956746146083\n",
      "Epoch 17/50, Loss: 0.2729076825082302\n",
      "Epoch 18/50, Loss: 0.26592066772282125\n",
      "Epoch 19/50, Loss: 0.2648869311437011\n",
      "Epoch 20/50, Loss: 0.2656852962449193\n",
      "Epoch 21/50, Loss: 0.2659184880554676\n",
      "Epoch 22/50, Loss: 0.26191807352006435\n",
      "Epoch 23/50, Loss: 0.260818587988615\n",
      "Epoch 24/50, Loss: 0.26066755037754774\n",
      "Epoch 25/50, Loss: 0.2579524265602231\n",
      "Epoch 26/50, Loss: 0.2557434935122728\n",
      "Epoch 27/50, Loss: 0.25456335600465535\n",
      "Epoch 28/50, Loss: 0.25565731804817915\n",
      "Epoch 29/50, Loss: 0.2540661899372935\n",
      "Epoch 30/50, Loss: 0.2523345394060016\n",
      "Epoch 31/50, Loss: 0.26039324421435595\n",
      "Epoch 32/50, Loss: 0.25597120970487597\n",
      "Epoch 33/50, Loss: 0.2549350133165717\n",
      "Epoch 34/50, Loss: 0.256761596724391\n",
      "Epoch 35/50, Loss: 0.2548677034676075\n",
      "Epoch 36/50, Loss: 0.2521889453753829\n",
      "Epoch 37/50, Loss: 0.25060693752020596\n",
      "Epoch 38/50, Loss: 0.25858642123639586\n",
      "Epoch 39/50, Loss: 0.25735218208283184\n",
      "Epoch 40/50, Loss: 0.25972516685724256\n",
      "Epoch 41/50, Loss: 0.26521015390753744\n",
      "Epoch 42/50, Loss: 0.2569535819813609\n",
      "Epoch 43/50, Loss: 0.25259577203541994\n",
      "Epoch 44/50, Loss: 0.2500356163829565\n",
      "Epoch 45/50, Loss: 0.24900715425610542\n",
      "Epoch 46/50, Loss: 0.24768946040421724\n",
      "Epoch 47/50, Loss: 0.24830004926770927\n",
      "Epoch 48/50, Loss: 0.2473612230271101\n",
      "Epoch 49/50, Loss: 0.2481243047863245\n",
      "Epoch 50/50, Loss: 0.2563384251669049\n"
     ]
    }
   ],
   "source": [
    "#find maximum number of tokens\n",
    "max_tokens = 0\n",
    "for i, solvent in enumerate(solvent_dict):\n",
    "    solvent = solvent_dict[solvent]\n",
    "    if solvent.chemberta_embedding is not None:\n",
    "        embedding = solvent.chemberta_embedding\n",
    "        if embedding.shape[0]>max_tokens:\n",
    "            max_tokens = embedding.shape[0]\n",
    "print(max_tokens)\n",
    "for i, solvent in enumerate(solvent_dict):\n",
    "    solvent = solvent_dict[solvent]\n",
    "    if solvent.chemberta_embedding is not None:\n",
    "        embedding = solvent.chemberta_embedding\n",
    "        tokens = embedding.shape[0]\n",
    "        tokens_to_fill = max_tokens-tokens\n",
    "        fill = torch.zeros(torch.Size([tokens_to_fill, embedding.shape[1]]))\n",
    "        embedding = torch.cat((embedding, fill), 0)\n",
    "        embedding = embedding.reshape(1,-1)\n",
    "        if i == 0:\n",
    "            embeddings = embedding # embeddings into single tensor for training AE\n",
    "        else:\n",
    "            embeddings = torch.cat((embeddings, embedding), 0)\n",
    "\n",
    "print('embeddings shape: ', embeddings.shape)\n",
    "#train reduce dimensions\n",
    "dimensionality_reduction = Dimensionality_reduction_with_AE(embeddings.shape[1], 2)\n",
    "dimensionality_reduction.train(embeddings, 50)"
   ]
  },
  {
   "cell_type": "code",
   "execution_count": 11,
   "metadata": {},
   "outputs": [
    {
     "data": {
      "application/vnd.plotly.v1+json": {
       "config": {
        "plotlyServerURL": "https://plot.ly"
       },
       "data": [
        {
         "marker": {
          "size": 10
         },
         "mode": "markers",
         "name": "ethanol",
         "text": "ethanol",
         "type": "scatter",
         "x": [
          44.719482421875
         ],
         "y": [
          -3.7183024883270264
         ]
        },
        {
         "marker": {
          "size": 10
         },
         "mode": "markers",
         "name": "methanol",
         "text": "methanol",
         "type": "scatter",
         "x": [
          42.118553161621094
         ],
         "y": [
          -0.19413267076015472
         ]
        },
        {
         "marker": {
          "size": 10
         },
         "mode": "markers",
         "name": "toluene",
         "text": "toluene",
         "type": "scatter",
         "x": [
          -49.032371520996094
         ],
         "y": [
          48.680667877197266
         ]
        },
        {
         "marker": {
          "size": 10
         },
         "mode": "markers",
         "name": "ethyl acetate",
         "text": "ethyl acetate",
         "type": "scatter",
         "x": [
          61.18812561035156
         ],
         "y": [
          64.55345153808594
         ]
        }
       ],
       "layout": {
        "template": {
         "data": {
          "bar": [
           {
            "error_x": {
             "color": "#2a3f5f"
            },
            "error_y": {
             "color": "#2a3f5f"
            },
            "marker": {
             "line": {
              "color": "#E5ECF6",
              "width": 0.5
             },
             "pattern": {
              "fillmode": "overlay",
              "size": 10,
              "solidity": 0.2
             }
            },
            "type": "bar"
           }
          ],
          "barpolar": [
           {
            "marker": {
             "line": {
              "color": "#E5ECF6",
              "width": 0.5
             },
             "pattern": {
              "fillmode": "overlay",
              "size": 10,
              "solidity": 0.2
             }
            },
            "type": "barpolar"
           }
          ],
          "carpet": [
           {
            "aaxis": {
             "endlinecolor": "#2a3f5f",
             "gridcolor": "white",
             "linecolor": "white",
             "minorgridcolor": "white",
             "startlinecolor": "#2a3f5f"
            },
            "baxis": {
             "endlinecolor": "#2a3f5f",
             "gridcolor": "white",
             "linecolor": "white",
             "minorgridcolor": "white",
             "startlinecolor": "#2a3f5f"
            },
            "type": "carpet"
           }
          ],
          "choropleth": [
           {
            "colorbar": {
             "outlinewidth": 0,
             "ticks": ""
            },
            "type": "choropleth"
           }
          ],
          "contour": [
           {
            "colorbar": {
             "outlinewidth": 0,
             "ticks": ""
            },
            "colorscale": [
             [
              0,
              "#0d0887"
             ],
             [
              0.1111111111111111,
              "#46039f"
             ],
             [
              0.2222222222222222,
              "#7201a8"
             ],
             [
              0.3333333333333333,
              "#9c179e"
             ],
             [
              0.4444444444444444,
              "#bd3786"
             ],
             [
              0.5555555555555556,
              "#d8576b"
             ],
             [
              0.6666666666666666,
              "#ed7953"
             ],
             [
              0.7777777777777778,
              "#fb9f3a"
             ],
             [
              0.8888888888888888,
              "#fdca26"
             ],
             [
              1,
              "#f0f921"
             ]
            ],
            "type": "contour"
           }
          ],
          "contourcarpet": [
           {
            "colorbar": {
             "outlinewidth": 0,
             "ticks": ""
            },
            "type": "contourcarpet"
           }
          ],
          "heatmap": [
           {
            "colorbar": {
             "outlinewidth": 0,
             "ticks": ""
            },
            "colorscale": [
             [
              0,
              "#0d0887"
             ],
             [
              0.1111111111111111,
              "#46039f"
             ],
             [
              0.2222222222222222,
              "#7201a8"
             ],
             [
              0.3333333333333333,
              "#9c179e"
             ],
             [
              0.4444444444444444,
              "#bd3786"
             ],
             [
              0.5555555555555556,
              "#d8576b"
             ],
             [
              0.6666666666666666,
              "#ed7953"
             ],
             [
              0.7777777777777778,
              "#fb9f3a"
             ],
             [
              0.8888888888888888,
              "#fdca26"
             ],
             [
              1,
              "#f0f921"
             ]
            ],
            "type": "heatmap"
           }
          ],
          "heatmapgl": [
           {
            "colorbar": {
             "outlinewidth": 0,
             "ticks": ""
            },
            "colorscale": [
             [
              0,
              "#0d0887"
             ],
             [
              0.1111111111111111,
              "#46039f"
             ],
             [
              0.2222222222222222,
              "#7201a8"
             ],
             [
              0.3333333333333333,
              "#9c179e"
             ],
             [
              0.4444444444444444,
              "#bd3786"
             ],
             [
              0.5555555555555556,
              "#d8576b"
             ],
             [
              0.6666666666666666,
              "#ed7953"
             ],
             [
              0.7777777777777778,
              "#fb9f3a"
             ],
             [
              0.8888888888888888,
              "#fdca26"
             ],
             [
              1,
              "#f0f921"
             ]
            ],
            "type": "heatmapgl"
           }
          ],
          "histogram": [
           {
            "marker": {
             "pattern": {
              "fillmode": "overlay",
              "size": 10,
              "solidity": 0.2
             }
            },
            "type": "histogram"
           }
          ],
          "histogram2d": [
           {
            "colorbar": {
             "outlinewidth": 0,
             "ticks": ""
            },
            "colorscale": [
             [
              0,
              "#0d0887"
             ],
             [
              0.1111111111111111,
              "#46039f"
             ],
             [
              0.2222222222222222,
              "#7201a8"
             ],
             [
              0.3333333333333333,
              "#9c179e"
             ],
             [
              0.4444444444444444,
              "#bd3786"
             ],
             [
              0.5555555555555556,
              "#d8576b"
             ],
             [
              0.6666666666666666,
              "#ed7953"
             ],
             [
              0.7777777777777778,
              "#fb9f3a"
             ],
             [
              0.8888888888888888,
              "#fdca26"
             ],
             [
              1,
              "#f0f921"
             ]
            ],
            "type": "histogram2d"
           }
          ],
          "histogram2dcontour": [
           {
            "colorbar": {
             "outlinewidth": 0,
             "ticks": ""
            },
            "colorscale": [
             [
              0,
              "#0d0887"
             ],
             [
              0.1111111111111111,
              "#46039f"
             ],
             [
              0.2222222222222222,
              "#7201a8"
             ],
             [
              0.3333333333333333,
              "#9c179e"
             ],
             [
              0.4444444444444444,
              "#bd3786"
             ],
             [
              0.5555555555555556,
              "#d8576b"
             ],
             [
              0.6666666666666666,
              "#ed7953"
             ],
             [
              0.7777777777777778,
              "#fb9f3a"
             ],
             [
              0.8888888888888888,
              "#fdca26"
             ],
             [
              1,
              "#f0f921"
             ]
            ],
            "type": "histogram2dcontour"
           }
          ],
          "mesh3d": [
           {
            "colorbar": {
             "outlinewidth": 0,
             "ticks": ""
            },
            "type": "mesh3d"
           }
          ],
          "parcoords": [
           {
            "line": {
             "colorbar": {
              "outlinewidth": 0,
              "ticks": ""
             }
            },
            "type": "parcoords"
           }
          ],
          "pie": [
           {
            "automargin": true,
            "type": "pie"
           }
          ],
          "scatter": [
           {
            "fillpattern": {
             "fillmode": "overlay",
             "size": 10,
             "solidity": 0.2
            },
            "type": "scatter"
           }
          ],
          "scatter3d": [
           {
            "line": {
             "colorbar": {
              "outlinewidth": 0,
              "ticks": ""
             }
            },
            "marker": {
             "colorbar": {
              "outlinewidth": 0,
              "ticks": ""
             }
            },
            "type": "scatter3d"
           }
          ],
          "scattercarpet": [
           {
            "marker": {
             "colorbar": {
              "outlinewidth": 0,
              "ticks": ""
             }
            },
            "type": "scattercarpet"
           }
          ],
          "scattergeo": [
           {
            "marker": {
             "colorbar": {
              "outlinewidth": 0,
              "ticks": ""
             }
            },
            "type": "scattergeo"
           }
          ],
          "scattergl": [
           {
            "marker": {
             "colorbar": {
              "outlinewidth": 0,
              "ticks": ""
             }
            },
            "type": "scattergl"
           }
          ],
          "scattermapbox": [
           {
            "marker": {
             "colorbar": {
              "outlinewidth": 0,
              "ticks": ""
             }
            },
            "type": "scattermapbox"
           }
          ],
          "scatterpolar": [
           {
            "marker": {
             "colorbar": {
              "outlinewidth": 0,
              "ticks": ""
             }
            },
            "type": "scatterpolar"
           }
          ],
          "scatterpolargl": [
           {
            "marker": {
             "colorbar": {
              "outlinewidth": 0,
              "ticks": ""
             }
            },
            "type": "scatterpolargl"
           }
          ],
          "scatterternary": [
           {
            "marker": {
             "colorbar": {
              "outlinewidth": 0,
              "ticks": ""
             }
            },
            "type": "scatterternary"
           }
          ],
          "surface": [
           {
            "colorbar": {
             "outlinewidth": 0,
             "ticks": ""
            },
            "colorscale": [
             [
              0,
              "#0d0887"
             ],
             [
              0.1111111111111111,
              "#46039f"
             ],
             [
              0.2222222222222222,
              "#7201a8"
             ],
             [
              0.3333333333333333,
              "#9c179e"
             ],
             [
              0.4444444444444444,
              "#bd3786"
             ],
             [
              0.5555555555555556,
              "#d8576b"
             ],
             [
              0.6666666666666666,
              "#ed7953"
             ],
             [
              0.7777777777777778,
              "#fb9f3a"
             ],
             [
              0.8888888888888888,
              "#fdca26"
             ],
             [
              1,
              "#f0f921"
             ]
            ],
            "type": "surface"
           }
          ],
          "table": [
           {
            "cells": {
             "fill": {
              "color": "#EBF0F8"
             },
             "line": {
              "color": "white"
             }
            },
            "header": {
             "fill": {
              "color": "#C8D4E3"
             },
             "line": {
              "color": "white"
             }
            },
            "type": "table"
           }
          ]
         },
         "layout": {
          "annotationdefaults": {
           "arrowcolor": "#2a3f5f",
           "arrowhead": 0,
           "arrowwidth": 1
          },
          "autotypenumbers": "strict",
          "coloraxis": {
           "colorbar": {
            "outlinewidth": 0,
            "ticks": ""
           }
          },
          "colorscale": {
           "diverging": [
            [
             0,
             "#8e0152"
            ],
            [
             0.1,
             "#c51b7d"
            ],
            [
             0.2,
             "#de77ae"
            ],
            [
             0.3,
             "#f1b6da"
            ],
            [
             0.4,
             "#fde0ef"
            ],
            [
             0.5,
             "#f7f7f7"
            ],
            [
             0.6,
             "#e6f5d0"
            ],
            [
             0.7,
             "#b8e186"
            ],
            [
             0.8,
             "#7fbc41"
            ],
            [
             0.9,
             "#4d9221"
            ],
            [
             1,
             "#276419"
            ]
           ],
           "sequential": [
            [
             0,
             "#0d0887"
            ],
            [
             0.1111111111111111,
             "#46039f"
            ],
            [
             0.2222222222222222,
             "#7201a8"
            ],
            [
             0.3333333333333333,
             "#9c179e"
            ],
            [
             0.4444444444444444,
             "#bd3786"
            ],
            [
             0.5555555555555556,
             "#d8576b"
            ],
            [
             0.6666666666666666,
             "#ed7953"
            ],
            [
             0.7777777777777778,
             "#fb9f3a"
            ],
            [
             0.8888888888888888,
             "#fdca26"
            ],
            [
             1,
             "#f0f921"
            ]
           ],
           "sequentialminus": [
            [
             0,
             "#0d0887"
            ],
            [
             0.1111111111111111,
             "#46039f"
            ],
            [
             0.2222222222222222,
             "#7201a8"
            ],
            [
             0.3333333333333333,
             "#9c179e"
            ],
            [
             0.4444444444444444,
             "#bd3786"
            ],
            [
             0.5555555555555556,
             "#d8576b"
            ],
            [
             0.6666666666666666,
             "#ed7953"
            ],
            [
             0.7777777777777778,
             "#fb9f3a"
            ],
            [
             0.8888888888888888,
             "#fdca26"
            ],
            [
             1,
             "#f0f921"
            ]
           ]
          },
          "colorway": [
           "#636efa",
           "#EF553B",
           "#00cc96",
           "#ab63fa",
           "#FFA15A",
           "#19d3f3",
           "#FF6692",
           "#B6E880",
           "#FF97FF",
           "#FECB52"
          ],
          "font": {
           "color": "#2a3f5f"
          },
          "geo": {
           "bgcolor": "white",
           "lakecolor": "white",
           "landcolor": "#E5ECF6",
           "showlakes": true,
           "showland": true,
           "subunitcolor": "white"
          },
          "hoverlabel": {
           "align": "left"
          },
          "hovermode": "closest",
          "mapbox": {
           "style": "light"
          },
          "paper_bgcolor": "white",
          "plot_bgcolor": "#E5ECF6",
          "polar": {
           "angularaxis": {
            "gridcolor": "white",
            "linecolor": "white",
            "ticks": ""
           },
           "bgcolor": "#E5ECF6",
           "radialaxis": {
            "gridcolor": "white",
            "linecolor": "white",
            "ticks": ""
           }
          },
          "scene": {
           "xaxis": {
            "backgroundcolor": "#E5ECF6",
            "gridcolor": "white",
            "gridwidth": 2,
            "linecolor": "white",
            "showbackground": true,
            "ticks": "",
            "zerolinecolor": "white"
           },
           "yaxis": {
            "backgroundcolor": "#E5ECF6",
            "gridcolor": "white",
            "gridwidth": 2,
            "linecolor": "white",
            "showbackground": true,
            "ticks": "",
            "zerolinecolor": "white"
           },
           "zaxis": {
            "backgroundcolor": "#E5ECF6",
            "gridcolor": "white",
            "gridwidth": 2,
            "linecolor": "white",
            "showbackground": true,
            "ticks": "",
            "zerolinecolor": "white"
           }
          },
          "shapedefaults": {
           "line": {
            "color": "#2a3f5f"
           }
          },
          "ternary": {
           "aaxis": {
            "gridcolor": "white",
            "linecolor": "white",
            "ticks": ""
           },
           "baxis": {
            "gridcolor": "white",
            "linecolor": "white",
            "ticks": ""
           },
           "bgcolor": "#E5ECF6",
           "caxis": {
            "gridcolor": "white",
            "linecolor": "white",
            "ticks": ""
           }
          },
          "title": {
           "x": 0.05
          },
          "xaxis": {
           "automargin": true,
           "gridcolor": "white",
           "linecolor": "white",
           "ticks": "",
           "title": {
            "standoff": 15
           },
           "zerolinecolor": "white",
           "zerolinewidth": 2
          },
          "yaxis": {
           "automargin": true,
           "gridcolor": "white",
           "linecolor": "white",
           "ticks": "",
           "title": {
            "standoff": 15
           },
           "zerolinecolor": "white",
           "zerolinewidth": 2
          }
         }
        },
        "title": {
         "text": "2D ChemBERTa descriptors of solvents using concatenated tokens"
        }
       }
      }
     },
     "metadata": {},
     "output_type": "display_data"
    }
   ],
   "source": [
    "fig = go.Figure()\n",
    "\n",
    "for i, solvent in enumerate(solvents_to_plot):\n",
    "    solvent = solvent_dict[solvent]\n",
    "    if solvent.chemberta_embedding is not None:\n",
    "        embedding = solvent.chemberta_embedding\n",
    "        tokens = embedding.shape[0]\n",
    "        tokens_to_fill = max_tokens-tokens\n",
    "        fill = torch.zeros(torch.Size([tokens_to_fill, embedding.shape[1]]))\n",
    "        embedding = torch.cat((embedding, fill), 0)\n",
    "        embedding = embedding.reshape(1,-1)\n",
    "        #print(embedding.shape)\n",
    "        reduced_embedding = dimensionality_reduction.reduce_dimension(embedding)\n",
    "        x = reduced_embedding[0][0].item()\n",
    "        y = reduced_embedding[0][1].item()\n",
    "        \n",
    "        fig.add_trace(go.Scatter(\n",
    "        x=[x],\n",
    "        y=[y],\n",
    "        mode='markers',\n",
    "        name=solvent.name,\n",
    "        marker=dict(size=10),\n",
    "        text=solvent.name,\n",
    "    ))\n",
    "\n",
    "fig.update_layout(title='2D ChemBERTa descriptors of solvents using concatenated tokens',)\n",
    "# Show the plot\n",
    "fig.show()"
   ]
  },
  {
   "cell_type": "markdown",
   "metadata": {},
   "source": [
    "### old code"
   ]
  },
  {
   "cell_type": "code",
   "execution_count": 12,
   "metadata": {},
   "outputs": [
    {
     "data": {
      "text/plain": [
       "<embedding.Compound at 0x7fae1005fad0>"
      ]
     },
     "execution_count": 12,
     "metadata": {},
     "output_type": "execute_result"
    }
   ],
   "source": [
    "solvent_dict['dimethylformamide']"
   ]
  },
  {
   "cell_type": "code",
   "execution_count": 13,
   "metadata": {},
   "outputs": [],
   "source": [
    "def make_reaction_smiles(reactants, solvents):\n",
    "    #concat reactant embeddings\n",
    "    reactant_smiles = []\n",
    "    for component in reactants.keys():\n",
    "        component = reactants[component]\n",
    "        reactant_smiles.append(component.smiles)\n",
    "    all_reaction_smiles = {}\n",
    "    for solvent in solvents:\n",
    "        temp_reactant_smiles = reactant_smiles.copy()\n",
    "        solvent = solvents[solvent]\n",
    "        temp_reactant_smiles.append(solvent.smiles)\n",
    "        if solvent.smiles == None:\n",
    "            continue\n",
    "        temp_reactant_smiles = '.'.join(temp_reactant_smiles)\n",
    "        compound = Compound(solvent.name, temp_reactant_smiles)\n",
    "        compound.chemberta_embedding = emb.create_embedding(temp_reactant_smiles)\n",
    "        all_reaction_smiles[solvent.name] = compound\n",
    "\n",
    "    return all_reaction_smiles\n",
    "    \n",
    "    #make reaction embedding\n"
   ]
  },
  {
   "cell_type": "code",
   "execution_count": 14,
   "metadata": {},
   "outputs": [
    {
     "ename": "NameError",
     "evalue": "name 'suzuki_dict' is not defined",
     "output_type": "error",
     "traceback": [
      "\u001b[0;31m---------------------------------------------------------------------------\u001b[0m",
      "\u001b[0;31mNameError\u001b[0m                                 Traceback (most recent call last)",
      "Cell \u001b[0;32mIn[14], line 1\u001b[0m\n\u001b[0;32m----> 1\u001b[0m suzuki_reaction_smiles \u001b[38;5;241m=\u001b[39m make_reaction_smiles(\u001b[43msuzuki_dict\u001b[49m, solvent_dict)\n",
      "\u001b[0;31mNameError\u001b[0m: name 'suzuki_dict' is not defined"
     ]
    }
   ],
   "source": [
    "suzuki_reaction_smiles = make_reaction_smiles(suzuki_dict, solvent_dict)"
   ]
  },
  {
   "cell_type": "code",
   "execution_count": null,
   "metadata": {},
   "outputs": [
    {
     "data": {
      "application/vnd.plotly.v1+json": {
       "config": {
        "plotlyServerURL": "https://plot.ly"
       },
       "data": [
        {
         "marker": {
          "size": 10
         },
         "mode": "markers",
         "name": "ethanol",
         "text": "ethanol",
         "type": "scatter",
         "x": [
          3.49737811088562
         ],
         "y": [
          0.4362301826477051
         ]
        },
        {
         "marker": {
          "size": 10
         },
         "mode": "markers",
         "name": "methanol",
         "text": "methanol",
         "type": "scatter",
         "x": [
          3.523027181625366
         ],
         "y": [
          0.5274957418441772
         ]
        },
        {
         "marker": {
          "size": 10
         },
         "mode": "markers",
         "name": "toluene",
         "text": "toluene",
         "type": "scatter",
         "x": [
          5.5696916580200195
         ],
         "y": [
          -0.36416661739349365
         ]
        },
        {
         "marker": {
          "size": 10
         },
         "mode": "markers",
         "name": "ethyl acetate",
         "text": "ethyl acetate",
         "type": "scatter",
         "x": [
          3.830353260040283
         ],
         "y": [
          0.024835579097270966
         ]
        }
       ],
       "layout": {
        "template": {
         "data": {
          "bar": [
           {
            "error_x": {
             "color": "#2a3f5f"
            },
            "error_y": {
             "color": "#2a3f5f"
            },
            "marker": {
             "line": {
              "color": "#E5ECF6",
              "width": 0.5
             },
             "pattern": {
              "fillmode": "overlay",
              "size": 10,
              "solidity": 0.2
             }
            },
            "type": "bar"
           }
          ],
          "barpolar": [
           {
            "marker": {
             "line": {
              "color": "#E5ECF6",
              "width": 0.5
             },
             "pattern": {
              "fillmode": "overlay",
              "size": 10,
              "solidity": 0.2
             }
            },
            "type": "barpolar"
           }
          ],
          "carpet": [
           {
            "aaxis": {
             "endlinecolor": "#2a3f5f",
             "gridcolor": "white",
             "linecolor": "white",
             "minorgridcolor": "white",
             "startlinecolor": "#2a3f5f"
            },
            "baxis": {
             "endlinecolor": "#2a3f5f",
             "gridcolor": "white",
             "linecolor": "white",
             "minorgridcolor": "white",
             "startlinecolor": "#2a3f5f"
            },
            "type": "carpet"
           }
          ],
          "choropleth": [
           {
            "colorbar": {
             "outlinewidth": 0,
             "ticks": ""
            },
            "type": "choropleth"
           }
          ],
          "contour": [
           {
            "colorbar": {
             "outlinewidth": 0,
             "ticks": ""
            },
            "colorscale": [
             [
              0,
              "#0d0887"
             ],
             [
              0.1111111111111111,
              "#46039f"
             ],
             [
              0.2222222222222222,
              "#7201a8"
             ],
             [
              0.3333333333333333,
              "#9c179e"
             ],
             [
              0.4444444444444444,
              "#bd3786"
             ],
             [
              0.5555555555555556,
              "#d8576b"
             ],
             [
              0.6666666666666666,
              "#ed7953"
             ],
             [
              0.7777777777777778,
              "#fb9f3a"
             ],
             [
              0.8888888888888888,
              "#fdca26"
             ],
             [
              1,
              "#f0f921"
             ]
            ],
            "type": "contour"
           }
          ],
          "contourcarpet": [
           {
            "colorbar": {
             "outlinewidth": 0,
             "ticks": ""
            },
            "type": "contourcarpet"
           }
          ],
          "heatmap": [
           {
            "colorbar": {
             "outlinewidth": 0,
             "ticks": ""
            },
            "colorscale": [
             [
              0,
              "#0d0887"
             ],
             [
              0.1111111111111111,
              "#46039f"
             ],
             [
              0.2222222222222222,
              "#7201a8"
             ],
             [
              0.3333333333333333,
              "#9c179e"
             ],
             [
              0.4444444444444444,
              "#bd3786"
             ],
             [
              0.5555555555555556,
              "#d8576b"
             ],
             [
              0.6666666666666666,
              "#ed7953"
             ],
             [
              0.7777777777777778,
              "#fb9f3a"
             ],
             [
              0.8888888888888888,
              "#fdca26"
             ],
             [
              1,
              "#f0f921"
             ]
            ],
            "type": "heatmap"
           }
          ],
          "heatmapgl": [
           {
            "colorbar": {
             "outlinewidth": 0,
             "ticks": ""
            },
            "colorscale": [
             [
              0,
              "#0d0887"
             ],
             [
              0.1111111111111111,
              "#46039f"
             ],
             [
              0.2222222222222222,
              "#7201a8"
             ],
             [
              0.3333333333333333,
              "#9c179e"
             ],
             [
              0.4444444444444444,
              "#bd3786"
             ],
             [
              0.5555555555555556,
              "#d8576b"
             ],
             [
              0.6666666666666666,
              "#ed7953"
             ],
             [
              0.7777777777777778,
              "#fb9f3a"
             ],
             [
              0.8888888888888888,
              "#fdca26"
             ],
             [
              1,
              "#f0f921"
             ]
            ],
            "type": "heatmapgl"
           }
          ],
          "histogram": [
           {
            "marker": {
             "pattern": {
              "fillmode": "overlay",
              "size": 10,
              "solidity": 0.2
             }
            },
            "type": "histogram"
           }
          ],
          "histogram2d": [
           {
            "colorbar": {
             "outlinewidth": 0,
             "ticks": ""
            },
            "colorscale": [
             [
              0,
              "#0d0887"
             ],
             [
              0.1111111111111111,
              "#46039f"
             ],
             [
              0.2222222222222222,
              "#7201a8"
             ],
             [
              0.3333333333333333,
              "#9c179e"
             ],
             [
              0.4444444444444444,
              "#bd3786"
             ],
             [
              0.5555555555555556,
              "#d8576b"
             ],
             [
              0.6666666666666666,
              "#ed7953"
             ],
             [
              0.7777777777777778,
              "#fb9f3a"
             ],
             [
              0.8888888888888888,
              "#fdca26"
             ],
             [
              1,
              "#f0f921"
             ]
            ],
            "type": "histogram2d"
           }
          ],
          "histogram2dcontour": [
           {
            "colorbar": {
             "outlinewidth": 0,
             "ticks": ""
            },
            "colorscale": [
             [
              0,
              "#0d0887"
             ],
             [
              0.1111111111111111,
              "#46039f"
             ],
             [
              0.2222222222222222,
              "#7201a8"
             ],
             [
              0.3333333333333333,
              "#9c179e"
             ],
             [
              0.4444444444444444,
              "#bd3786"
             ],
             [
              0.5555555555555556,
              "#d8576b"
             ],
             [
              0.6666666666666666,
              "#ed7953"
             ],
             [
              0.7777777777777778,
              "#fb9f3a"
             ],
             [
              0.8888888888888888,
              "#fdca26"
             ],
             [
              1,
              "#f0f921"
             ]
            ],
            "type": "histogram2dcontour"
           }
          ],
          "mesh3d": [
           {
            "colorbar": {
             "outlinewidth": 0,
             "ticks": ""
            },
            "type": "mesh3d"
           }
          ],
          "parcoords": [
           {
            "line": {
             "colorbar": {
              "outlinewidth": 0,
              "ticks": ""
             }
            },
            "type": "parcoords"
           }
          ],
          "pie": [
           {
            "automargin": true,
            "type": "pie"
           }
          ],
          "scatter": [
           {
            "fillpattern": {
             "fillmode": "overlay",
             "size": 10,
             "solidity": 0.2
            },
            "type": "scatter"
           }
          ],
          "scatter3d": [
           {
            "line": {
             "colorbar": {
              "outlinewidth": 0,
              "ticks": ""
             }
            },
            "marker": {
             "colorbar": {
              "outlinewidth": 0,
              "ticks": ""
             }
            },
            "type": "scatter3d"
           }
          ],
          "scattercarpet": [
           {
            "marker": {
             "colorbar": {
              "outlinewidth": 0,
              "ticks": ""
             }
            },
            "type": "scattercarpet"
           }
          ],
          "scattergeo": [
           {
            "marker": {
             "colorbar": {
              "outlinewidth": 0,
              "ticks": ""
             }
            },
            "type": "scattergeo"
           }
          ],
          "scattergl": [
           {
            "marker": {
             "colorbar": {
              "outlinewidth": 0,
              "ticks": ""
             }
            },
            "type": "scattergl"
           }
          ],
          "scattermapbox": [
           {
            "marker": {
             "colorbar": {
              "outlinewidth": 0,
              "ticks": ""
             }
            },
            "type": "scattermapbox"
           }
          ],
          "scatterpolar": [
           {
            "marker": {
             "colorbar": {
              "outlinewidth": 0,
              "ticks": ""
             }
            },
            "type": "scatterpolar"
           }
          ],
          "scatterpolargl": [
           {
            "marker": {
             "colorbar": {
              "outlinewidth": 0,
              "ticks": ""
             }
            },
            "type": "scatterpolargl"
           }
          ],
          "scatterternary": [
           {
            "marker": {
             "colorbar": {
              "outlinewidth": 0,
              "ticks": ""
             }
            },
            "type": "scatterternary"
           }
          ],
          "surface": [
           {
            "colorbar": {
             "outlinewidth": 0,
             "ticks": ""
            },
            "colorscale": [
             [
              0,
              "#0d0887"
             ],
             [
              0.1111111111111111,
              "#46039f"
             ],
             [
              0.2222222222222222,
              "#7201a8"
             ],
             [
              0.3333333333333333,
              "#9c179e"
             ],
             [
              0.4444444444444444,
              "#bd3786"
             ],
             [
              0.5555555555555556,
              "#d8576b"
             ],
             [
              0.6666666666666666,
              "#ed7953"
             ],
             [
              0.7777777777777778,
              "#fb9f3a"
             ],
             [
              0.8888888888888888,
              "#fdca26"
             ],
             [
              1,
              "#f0f921"
             ]
            ],
            "type": "surface"
           }
          ],
          "table": [
           {
            "cells": {
             "fill": {
              "color": "#EBF0F8"
             },
             "line": {
              "color": "white"
             }
            },
            "header": {
             "fill": {
              "color": "#C8D4E3"
             },
             "line": {
              "color": "white"
             }
            },
            "type": "table"
           }
          ]
         },
         "layout": {
          "annotationdefaults": {
           "arrowcolor": "#2a3f5f",
           "arrowhead": 0,
           "arrowwidth": 1
          },
          "autotypenumbers": "strict",
          "coloraxis": {
           "colorbar": {
            "outlinewidth": 0,
            "ticks": ""
           }
          },
          "colorscale": {
           "diverging": [
            [
             0,
             "#8e0152"
            ],
            [
             0.1,
             "#c51b7d"
            ],
            [
             0.2,
             "#de77ae"
            ],
            [
             0.3,
             "#f1b6da"
            ],
            [
             0.4,
             "#fde0ef"
            ],
            [
             0.5,
             "#f7f7f7"
            ],
            [
             0.6,
             "#e6f5d0"
            ],
            [
             0.7,
             "#b8e186"
            ],
            [
             0.8,
             "#7fbc41"
            ],
            [
             0.9,
             "#4d9221"
            ],
            [
             1,
             "#276419"
            ]
           ],
           "sequential": [
            [
             0,
             "#0d0887"
            ],
            [
             0.1111111111111111,
             "#46039f"
            ],
            [
             0.2222222222222222,
             "#7201a8"
            ],
            [
             0.3333333333333333,
             "#9c179e"
            ],
            [
             0.4444444444444444,
             "#bd3786"
            ],
            [
             0.5555555555555556,
             "#d8576b"
            ],
            [
             0.6666666666666666,
             "#ed7953"
            ],
            [
             0.7777777777777778,
             "#fb9f3a"
            ],
            [
             0.8888888888888888,
             "#fdca26"
            ],
            [
             1,
             "#f0f921"
            ]
           ],
           "sequentialminus": [
            [
             0,
             "#0d0887"
            ],
            [
             0.1111111111111111,
             "#46039f"
            ],
            [
             0.2222222222222222,
             "#7201a8"
            ],
            [
             0.3333333333333333,
             "#9c179e"
            ],
            [
             0.4444444444444444,
             "#bd3786"
            ],
            [
             0.5555555555555556,
             "#d8576b"
            ],
            [
             0.6666666666666666,
             "#ed7953"
            ],
            [
             0.7777777777777778,
             "#fb9f3a"
            ],
            [
             0.8888888888888888,
             "#fdca26"
            ],
            [
             1,
             "#f0f921"
            ]
           ]
          },
          "colorway": [
           "#636efa",
           "#EF553B",
           "#00cc96",
           "#ab63fa",
           "#FFA15A",
           "#19d3f3",
           "#FF6692",
           "#B6E880",
           "#FF97FF",
           "#FECB52"
          ],
          "font": {
           "color": "#2a3f5f"
          },
          "geo": {
           "bgcolor": "white",
           "lakecolor": "white",
           "landcolor": "#E5ECF6",
           "showlakes": true,
           "showland": true,
           "subunitcolor": "white"
          },
          "hoverlabel": {
           "align": "left"
          },
          "hovermode": "closest",
          "mapbox": {
           "style": "light"
          },
          "paper_bgcolor": "white",
          "plot_bgcolor": "#E5ECF6",
          "polar": {
           "angularaxis": {
            "gridcolor": "white",
            "linecolor": "white",
            "ticks": ""
           },
           "bgcolor": "#E5ECF6",
           "radialaxis": {
            "gridcolor": "white",
            "linecolor": "white",
            "ticks": ""
           }
          },
          "scene": {
           "xaxis": {
            "backgroundcolor": "#E5ECF6",
            "gridcolor": "white",
            "gridwidth": 2,
            "linecolor": "white",
            "showbackground": true,
            "ticks": "",
            "zerolinecolor": "white"
           },
           "yaxis": {
            "backgroundcolor": "#E5ECF6",
            "gridcolor": "white",
            "gridwidth": 2,
            "linecolor": "white",
            "showbackground": true,
            "ticks": "",
            "zerolinecolor": "white"
           },
           "zaxis": {
            "backgroundcolor": "#E5ECF6",
            "gridcolor": "white",
            "gridwidth": 2,
            "linecolor": "white",
            "showbackground": true,
            "ticks": "",
            "zerolinecolor": "white"
           }
          },
          "shapedefaults": {
           "line": {
            "color": "#2a3f5f"
           }
          },
          "ternary": {
           "aaxis": {
            "gridcolor": "white",
            "linecolor": "white",
            "ticks": ""
           },
           "baxis": {
            "gridcolor": "white",
            "linecolor": "white",
            "ticks": ""
           },
           "bgcolor": "#E5ECF6",
           "caxis": {
            "gridcolor": "white",
            "linecolor": "white",
            "ticks": ""
           }
          },
          "title": {
           "x": 0.05
          },
          "xaxis": {
           "automargin": true,
           "gridcolor": "white",
           "linecolor": "white",
           "ticks": "",
           "title": {
            "standoff": 15
           },
           "zerolinecolor": "white",
           "zerolinewidth": 2
          },
          "yaxis": {
           "automargin": true,
           "gridcolor": "white",
           "linecolor": "white",
           "ticks": "",
           "title": {
            "standoff": 15
           },
           "zerolinecolor": "white",
           "zerolinewidth": 2
          }
         }
        },
        "title": {
         "text": "2D ChemBERTa reaction descriptors for in Suzuki Coupling"
        }
       }
      }
     },
     "metadata": {},
     "output_type": "display_data"
    }
   ],
   "source": [
    "\n",
    "fig = go.Figure()\n",
    "\n",
    "\n",
    "for i, solvent in enumerate(solvents_to_plot):\n",
    "    #plot\n",
    "    try:\n",
    "        solvent = suzuki_reaction_smiles[solvent]\n",
    "    except:\n",
    "        continue\n",
    "    if solvent.chemberta_embedding is not None:\n",
    "        embedding = solvent.chemberta_embedding.reshape(1,solvent.chemberta_embedding.shape[0])\n",
    "        reduced_embedding = dimensionality_reduction.reduce_dimension(embedding)\n",
    "        x = reduced_embedding[0][0].item()\n",
    "        y = reduced_embedding[0][1].item()\n",
    "        \n",
    "        fig.add_trace(go.Scatter(\n",
    "        x=[x],\n",
    "        y=[y],\n",
    "        mode='markers',\n",
    "        name=solvent.name,\n",
    "        marker=dict(size=10),\n",
    "        text=solvent.name,\n",
    "    ))\n",
    "\n",
    "fig.update_layout(title='2D ChemBERTa reaction descriptors for in Suzuki Coupling',)\n",
    "# Show the plot\n",
    "fig.show()\n",
    "\n"
   ]
  },
  {
   "cell_type": "code",
   "execution_count": null,
   "metadata": {},
   "outputs": [
    {
     "data": {
      "text/plain": [
       "'C1=CC=C(C=C1)I.B(C1=CC=CC=C1)(O)O.CO'"
      ]
     },
     "execution_count": 64,
     "metadata": {},
     "output_type": "execute_result"
    }
   ],
   "source": [
    "suzuki_reaction_smiles['methanol'].smiles"
   ]
  }
 ],
 "metadata": {
  "kernelspec": {
   "display_name": "vlab",
   "language": "python",
   "name": "python3"
  },
  "language_info": {
   "codemirror_mode": {
    "name": "ipython",
    "version": 3
   },
   "file_extension": ".py",
   "mimetype": "text/x-python",
   "name": "python",
   "nbconvert_exporter": "python",
   "pygments_lexer": "ipython3",
   "version": "3.12.3"
  }
 },
 "nbformat": 4,
 "nbformat_minor": 2
}
