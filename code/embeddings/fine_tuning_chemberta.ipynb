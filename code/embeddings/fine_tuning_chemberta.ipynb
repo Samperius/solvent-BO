{
 "cells": [
  {
   "cell_type": "code",
   "execution_count": 2,
   "metadata": {},
   "outputs": [
    {
     "name": "stderr",
     "output_type": "stream",
     "text": [
      "/home/kinnunes/.conda/envs/vlab/lib/python3.12/site-packages/tqdm/auto.py:21: TqdmWarning: IProgress not found. Please update jupyter and ipywidgets. See https://ipywidgets.readthedocs.io/en/stable/user_install.html\n",
      "  from .autonotebook import tqdm as notebook_tqdm\n"
     ]
    }
   ],
   "source": [
    "import numpy as np\n",
    "from transformers import AutoModelForMaskedLM, AutoTokenizer, RobertaModel, RobertaTokenizer, AutoModelForSequenceClassification\n",
    "from transformers import TrainingArguments\n",
    "from transformers import get_scheduler\n",
    "\n",
    "import torch\n",
    "from torch import tensor\n",
    "from torch.utils.data import Dataset\n",
    "from torch.utils.data import DataLoader\n",
    "import pandas as pd\n",
    "from torch import nn\n",
    "from sklearn.model_selection import train_test_split\n",
    "import torch.optim as optim\n"
   ]
  },
  {
   "cell_type": "code",
   "execution_count": 3,
   "metadata": {},
   "outputs": [
    {
     "name": "stderr",
     "output_type": "stream",
     "text": [
      "/home/kinnunes/.conda/envs/vlab/lib/python3.12/site-packages/huggingface_hub/file_download.py:1132: FutureWarning: `resume_download` is deprecated and will be removed in version 1.0.0. Downloads always resume when possible. If you want to force a new download, use `force_download=True`.\n",
      "  warnings.warn(\n",
      "Some weights of RobertaForSequenceClassification were not initialized from the model checkpoint at seyonec/PubChem10M_SMILES_BPE_450k and are newly initialized: ['classifier.dense.bias', 'classifier.dense.weight', 'classifier.out_proj.bias', 'classifier.out_proj.weight']\n",
      "You should probably TRAIN this model on a down-stream task to be able to use it for predictions and inference.\n"
     ]
    }
   ],
   "source": [
    "model = AutoModelForSequenceClassification.from_pretrained(\"seyonec/PubChem10M_SMILES_BPE_450k\", output_attentions=True, output_hidden_states=True, num_labels = 1)\n",
    "tokenizer = AutoTokenizer.from_pretrained(\"seyonec/PubChem10M_SMILES_BPE_450k\")\n"
   ]
  },
  {
   "cell_type": "code",
   "execution_count": 4,
   "metadata": {},
   "outputs": [],
   "source": [
    "#Folder to save the model checkpoints\n",
    "training_args = TrainingArguments(output_dir=\"test_trainer\")"
   ]
  },
  {
   "cell_type": "code",
   "execution_count": 5,
   "metadata": {},
   "outputs": [],
   "source": [
    "#load wipf dataframe\n",
    "df = pd.read_excel('../data/wipf_27.6.xlsx')"
   ]
  },
  {
   "cell_type": "code",
   "execution_count": 6,
   "metadata": {},
   "outputs": [
    {
     "data": {
      "text/html": [
       "<div>\n",
       "<style scoped>\n",
       "    .dataframe tbody tr th:only-of-type {\n",
       "        vertical-align: middle;\n",
       "    }\n",
       "\n",
       "    .dataframe tbody tr th {\n",
       "        vertical-align: top;\n",
       "    }\n",
       "\n",
       "    .dataframe thead th {\n",
       "        text-align: right;\n",
       "    }\n",
       "</style>\n",
       "<table border=\"1\" class=\"dataframe\">\n",
       "  <thead>\n",
       "    <tr style=\"text-align: right;\">\n",
       "      <th></th>\n",
       "      <th>Unnamed: 0</th>\n",
       "      <th>_Reaction__reactants</th>\n",
       "      <th>_Reaction__solvents</th>\n",
       "      <th>_Reaction__products</th>\n",
       "      <th>_Reaction__rxn_smiles</th>\n",
       "      <th>_Reaction__volume</th>\n",
       "      <th>_Reaction__conditions</th>\n",
       "      <th>_Reaction__class_id</th>\n",
       "      <th>_Reaction__fps</th>\n",
       "      <th>_Reaction__mhfp</th>\n",
       "      <th>_Reaction__id</th>\n",
       "      <th>_Reaction__quantity</th>\n",
       "      <th>has_solvent</th>\n",
       "      <th>product_yield</th>\n",
       "      <th>n_products</th>\n",
       "      <th>has_yield</th>\n",
       "      <th>has_yield_and_solvent</th>\n",
       "      <th>solvent_smiles</th>\n",
       "      <th>has_solvent_smiles</th>\n",
       "      <th>has_yield_and_solvent_smiles</th>\n",
       "    </tr>\n",
       "  </thead>\n",
       "  <tbody>\n",
       "    <tr>\n",
       "      <th>0</th>\n",
       "      <td>0</td>\n",
       "      <td>[{'_Molecule__inchi': '', 'name': '', 'smiles'...</td>\n",
       "      <td>[]</td>\n",
       "      <td>[{'_Molecule__inchi': '', 'name': '', 'smiles'...</td>\n",
       "      <td>Cc1ccc(S(=O)(=O)NC[C@@H](COCc2ccccc2)OC(=O)OC(...</td>\n",
       "      <td>0.000000</td>\n",
       "      <td>{'pressure': None, 'temperature': None, 'durat...</td>\n",
       "      <td>0</td>\n",
       "      <td>[]</td>\n",
       "      <td>0</td>\n",
       "      <td>NB-00320.026</td>\n",
       "      <td>0</td>\n",
       "      <td>False</td>\n",
       "      <td>85.20</td>\n",
       "      <td>1</td>\n",
       "      <td>True</td>\n",
       "      <td>False</td>\n",
       "      <td>NaN</td>\n",
       "      <td>False</td>\n",
       "      <td>False</td>\n",
       "    </tr>\n",
       "    <tr>\n",
       "      <th>1</th>\n",
       "      <td>1</td>\n",
       "      <td>[{'_Molecule__inchi': '', 'name': '', 'smiles'...</td>\n",
       "      <td>[{'_Solvent__name': 'dimethylformamide', '_Sol...</td>\n",
       "      <td>[{'_Molecule__inchi': '', 'name': '', 'smiles'...</td>\n",
       "      <td>OC[C@H]1CO1.BrCc1ccccc1.C1=CC(=CN=C1)C(=O)O&gt;&gt;c...</td>\n",
       "      <td>100.000000</td>\n",
       "      <td>{'pressure': None, 'temperature': None, 'durat...</td>\n",
       "      <td>0</td>\n",
       "      <td>[]</td>\n",
       "      <td>0</td>\n",
       "      <td>NB-00320.025</td>\n",
       "      <td>0</td>\n",
       "      <td>True</td>\n",
       "      <td>59.91</td>\n",
       "      <td>1</td>\n",
       "      <td>True</td>\n",
       "      <td>True</td>\n",
       "      <td>CN(C)C=O</td>\n",
       "      <td>True</td>\n",
       "      <td>True</td>\n",
       "    </tr>\n",
       "    <tr>\n",
       "      <th>2</th>\n",
       "      <td>2</td>\n",
       "      <td>[{'_Molecule__inchi': '', 'name': '', 'smiles'...</td>\n",
       "      <td>[{'_Solvent__name': 'dichloromethane', '_Solve...</td>\n",
       "      <td>[{'_Molecule__inchi': '', 'name': '', 'smiles'...</td>\n",
       "      <td>Cc1ccc(S(=O)(=O)N(C[C@@H](O)COCc2ccccc2)C[C@@H...</td>\n",
       "      <td>0.288208</td>\n",
       "      <td>{'pressure': None, 'temperature': None, 'durat...</td>\n",
       "      <td>0</td>\n",
       "      <td>[]</td>\n",
       "      <td>0</td>\n",
       "      <td>NB-00320.024</td>\n",
       "      <td>0</td>\n",
       "      <td>True</td>\n",
       "      <td>31.99</td>\n",
       "      <td>1</td>\n",
       "      <td>True</td>\n",
       "      <td>True</td>\n",
       "      <td>C(Cl)Cl</td>\n",
       "      <td>True</td>\n",
       "      <td>True</td>\n",
       "    </tr>\n",
       "    <tr>\n",
       "      <th>3</th>\n",
       "      <td>3</td>\n",
       "      <td>[{'_Molecule__inchi': '', 'name': '', 'smiles'...</td>\n",
       "      <td>[]</td>\n",
       "      <td>[{'_Molecule__inchi': '', 'name': '', 'smiles'...</td>\n",
       "      <td>c1ccc(COC[C@@H]2CO2)cc1.Cc1ccc(S(=O)(=O)NC(=O)...</td>\n",
       "      <td>0.000000</td>\n",
       "      <td>{'pressure': None, 'temperature': None, 'durat...</td>\n",
       "      <td>0</td>\n",
       "      <td>[]</td>\n",
       "      <td>0</td>\n",
       "      <td>NB-00320.023</td>\n",
       "      <td>0</td>\n",
       "      <td>False</td>\n",
       "      <td>30.30</td>\n",
       "      <td>1</td>\n",
       "      <td>True</td>\n",
       "      <td>False</td>\n",
       "      <td>NaN</td>\n",
       "      <td>False</td>\n",
       "      <td>False</td>\n",
       "    </tr>\n",
       "    <tr>\n",
       "      <th>4</th>\n",
       "      <td>4</td>\n",
       "      <td>[{'_Molecule__inchi': '', 'name': '', 'smiles'...</td>\n",
       "      <td>[{'_Solvent__name': 'methanol', '_Solvent__vol...</td>\n",
       "      <td>[{'_Molecule__inchi': '', 'name': '', 'smiles'...</td>\n",
       "      <td>COC(=O)[C@@]1(C)[C@H]2C(=O)N(C)C(=O)[C@H]2[C@@...</td>\n",
       "      <td>10.114293</td>\n",
       "      <td>{'pressure': None, 'temperature': None, 'durat...</td>\n",
       "      <td>0</td>\n",
       "      <td>[]</td>\n",
       "      <td>0</td>\n",
       "      <td>NB-00305.045</td>\n",
       "      <td>0</td>\n",
       "      <td>True</td>\n",
       "      <td>50.00</td>\n",
       "      <td>1</td>\n",
       "      <td>True</td>\n",
       "      <td>True</td>\n",
       "      <td>CO</td>\n",
       "      <td>True</td>\n",
       "      <td>True</td>\n",
       "    </tr>\n",
       "    <tr>\n",
       "      <th>...</th>\n",
       "      <td>...</td>\n",
       "      <td>...</td>\n",
       "      <td>...</td>\n",
       "      <td>...</td>\n",
       "      <td>...</td>\n",
       "      <td>...</td>\n",
       "      <td>...</td>\n",
       "      <td>...</td>\n",
       "      <td>...</td>\n",
       "      <td>...</td>\n",
       "      <td>...</td>\n",
       "      <td>...</td>\n",
       "      <td>...</td>\n",
       "      <td>...</td>\n",
       "      <td>...</td>\n",
       "      <td>...</td>\n",
       "      <td>...</td>\n",
       "      <td>...</td>\n",
       "      <td>...</td>\n",
       "      <td>...</td>\n",
       "    </tr>\n",
       "    <tr>\n",
       "      <th>18214</th>\n",
       "      <td>18214</td>\n",
       "      <td>[{'_Molecule__inchi': '', 'name': '', 'smiles'...</td>\n",
       "      <td>[]</td>\n",
       "      <td>[{'_Molecule__inchi': '', 'name': '', 'smiles'...</td>\n",
       "      <td>Nc1[nH]c(=O)[nH]c(=O)c1S(=O)(=O)Cl.N#Cc1ccccc1...</td>\n",
       "      <td>0.239240</td>\n",
       "      <td>{'pressure': None, 'temperature': None, 'durat...</td>\n",
       "      <td>0</td>\n",
       "      <td>[]</td>\n",
       "      <td>0</td>\n",
       "      <td>NB-00001.004</td>\n",
       "      <td>0</td>\n",
       "      <td>False</td>\n",
       "      <td>NaN</td>\n",
       "      <td>1</td>\n",
       "      <td>False</td>\n",
       "      <td>False</td>\n",
       "      <td>NaN</td>\n",
       "      <td>False</td>\n",
       "      <td>False</td>\n",
       "    </tr>\n",
       "    <tr>\n",
       "      <th>18215</th>\n",
       "      <td>18215</td>\n",
       "      <td>[{'_Molecule__inchi': '', 'name': '', 'smiles'...</td>\n",
       "      <td>[]</td>\n",
       "      <td>[{'_Molecule__inchi': '', 'name': '', 'smiles'...</td>\n",
       "      <td>Nc1[nH]c(=O)[nH]c(=O)c1S(=O)(=O)Cl.COc1ccccc1N...</td>\n",
       "      <td>0.234090</td>\n",
       "      <td>{'pressure': None, 'temperature': None, 'durat...</td>\n",
       "      <td>0</td>\n",
       "      <td>[]</td>\n",
       "      <td>0</td>\n",
       "      <td>NB-00001.003</td>\n",
       "      <td>0</td>\n",
       "      <td>False</td>\n",
       "      <td>3.20</td>\n",
       "      <td>1</td>\n",
       "      <td>True</td>\n",
       "      <td>False</td>\n",
       "      <td>NaN</td>\n",
       "      <td>False</td>\n",
       "      <td>False</td>\n",
       "    </tr>\n",
       "    <tr>\n",
       "      <th>18216</th>\n",
       "      <td>18216</td>\n",
       "      <td>[{'_Molecule__inchi': '', 'name': '', 'smiles'...</td>\n",
       "      <td>[]</td>\n",
       "      <td>[{'_Molecule__inchi': '', 'name': '', 'smiles'...</td>\n",
       "      <td>Nc1[nH]c(=O)[nH]c(=O)c1S(=O)(=O)Cl.Nc1ccccc1.c...</td>\n",
       "      <td>0.212445</td>\n",
       "      <td>{'pressure': None, 'temperature': None, 'durat...</td>\n",
       "      <td>0</td>\n",
       "      <td>[]</td>\n",
       "      <td>0</td>\n",
       "      <td>NB-00001.002</td>\n",
       "      <td>0</td>\n",
       "      <td>False</td>\n",
       "      <td>NaN</td>\n",
       "      <td>1</td>\n",
       "      <td>False</td>\n",
       "      <td>False</td>\n",
       "      <td>NaN</td>\n",
       "      <td>False</td>\n",
       "      <td>False</td>\n",
       "    </tr>\n",
       "    <tr>\n",
       "      <th>18217</th>\n",
       "      <td>18217</td>\n",
       "      <td>[{'_Molecule__inchi': '', 'name': '', 'smiles'...</td>\n",
       "      <td>[]</td>\n",
       "      <td>[{'_Molecule__inchi': '', 'name': '4-(6-Amino-...</td>\n",
       "      <td>Nc1[nH]c(=O)[nH]c(=O)c1S(=O)(=O)Cl.CCOC(=O)c1c...</td>\n",
       "      <td>0.537600</td>\n",
       "      <td>{'pressure': None, 'temperature': None, 'durat...</td>\n",
       "      <td>0</td>\n",
       "      <td>[]</td>\n",
       "      <td>0</td>\n",
       "      <td>NB-00001.001</td>\n",
       "      <td>0</td>\n",
       "      <td>False</td>\n",
       "      <td>0.45</td>\n",
       "      <td>1</td>\n",
       "      <td>True</td>\n",
       "      <td>False</td>\n",
       "      <td>NaN</td>\n",
       "      <td>False</td>\n",
       "      <td>False</td>\n",
       "    </tr>\n",
       "    <tr>\n",
       "      <th>18218</th>\n",
       "      <td>18218</td>\n",
       "      <td>[{'_Molecule__inchi': '', 'name': '', 'smiles'...</td>\n",
       "      <td>[{'_Solvent__name': 'dichloromethane', '_Solve...</td>\n",
       "      <td>[{'_Molecule__inchi': '', 'name': '', 'smiles'...</td>\n",
       "      <td>C=Cc1ccc(C[C@H](NC(=O)OC(C)(C)C)C(N)=O)cc1.C1=...</td>\n",
       "      <td>3.976320</td>\n",
       "      <td>{'pressure': None, 'temperature': None, 'durat...</td>\n",
       "      <td>0</td>\n",
       "      <td>[]</td>\n",
       "      <td>0</td>\n",
       "      <td>NB-00002-1</td>\n",
       "      <td>0</td>\n",
       "      <td>True</td>\n",
       "      <td>57.36</td>\n",
       "      <td>1</td>\n",
       "      <td>True</td>\n",
       "      <td>True</td>\n",
       "      <td>C(Cl)Cl</td>\n",
       "      <td>True</td>\n",
       "      <td>True</td>\n",
       "    </tr>\n",
       "  </tbody>\n",
       "</table>\n",
       "<p>18219 rows × 20 columns</p>\n",
       "</div>"
      ],
      "text/plain": [
       "       Unnamed: 0                               _Reaction__reactants  \\\n",
       "0               0  [{'_Molecule__inchi': '', 'name': '', 'smiles'...   \n",
       "1               1  [{'_Molecule__inchi': '', 'name': '', 'smiles'...   \n",
       "2               2  [{'_Molecule__inchi': '', 'name': '', 'smiles'...   \n",
       "3               3  [{'_Molecule__inchi': '', 'name': '', 'smiles'...   \n",
       "4               4  [{'_Molecule__inchi': '', 'name': '', 'smiles'...   \n",
       "...           ...                                                ...   \n",
       "18214       18214  [{'_Molecule__inchi': '', 'name': '', 'smiles'...   \n",
       "18215       18215  [{'_Molecule__inchi': '', 'name': '', 'smiles'...   \n",
       "18216       18216  [{'_Molecule__inchi': '', 'name': '', 'smiles'...   \n",
       "18217       18217  [{'_Molecule__inchi': '', 'name': '', 'smiles'...   \n",
       "18218       18218  [{'_Molecule__inchi': '', 'name': '', 'smiles'...   \n",
       "\n",
       "                                     _Reaction__solvents  \\\n",
       "0                                                     []   \n",
       "1      [{'_Solvent__name': 'dimethylformamide', '_Sol...   \n",
       "2      [{'_Solvent__name': 'dichloromethane', '_Solve...   \n",
       "3                                                     []   \n",
       "4      [{'_Solvent__name': 'methanol', '_Solvent__vol...   \n",
       "...                                                  ...   \n",
       "18214                                                 []   \n",
       "18215                                                 []   \n",
       "18216                                                 []   \n",
       "18217                                                 []   \n",
       "18218  [{'_Solvent__name': 'dichloromethane', '_Solve...   \n",
       "\n",
       "                                     _Reaction__products  \\\n",
       "0      [{'_Molecule__inchi': '', 'name': '', 'smiles'...   \n",
       "1      [{'_Molecule__inchi': '', 'name': '', 'smiles'...   \n",
       "2      [{'_Molecule__inchi': '', 'name': '', 'smiles'...   \n",
       "3      [{'_Molecule__inchi': '', 'name': '', 'smiles'...   \n",
       "4      [{'_Molecule__inchi': '', 'name': '', 'smiles'...   \n",
       "...                                                  ...   \n",
       "18214  [{'_Molecule__inchi': '', 'name': '', 'smiles'...   \n",
       "18215  [{'_Molecule__inchi': '', 'name': '', 'smiles'...   \n",
       "18216  [{'_Molecule__inchi': '', 'name': '', 'smiles'...   \n",
       "18217  [{'_Molecule__inchi': '', 'name': '4-(6-Amino-...   \n",
       "18218  [{'_Molecule__inchi': '', 'name': '', 'smiles'...   \n",
       "\n",
       "                                   _Reaction__rxn_smiles  _Reaction__volume  \\\n",
       "0      Cc1ccc(S(=O)(=O)NC[C@@H](COCc2ccccc2)OC(=O)OC(...           0.000000   \n",
       "1      OC[C@H]1CO1.BrCc1ccccc1.C1=CC(=CN=C1)C(=O)O>>c...         100.000000   \n",
       "2      Cc1ccc(S(=O)(=O)N(C[C@@H](O)COCc2ccccc2)C[C@@H...           0.288208   \n",
       "3      c1ccc(COC[C@@H]2CO2)cc1.Cc1ccc(S(=O)(=O)NC(=O)...           0.000000   \n",
       "4      COC(=O)[C@@]1(C)[C@H]2C(=O)N(C)C(=O)[C@H]2[C@@...          10.114293   \n",
       "...                                                  ...                ...   \n",
       "18214  Nc1[nH]c(=O)[nH]c(=O)c1S(=O)(=O)Cl.N#Cc1ccccc1...           0.239240   \n",
       "18215  Nc1[nH]c(=O)[nH]c(=O)c1S(=O)(=O)Cl.COc1ccccc1N...           0.234090   \n",
       "18216  Nc1[nH]c(=O)[nH]c(=O)c1S(=O)(=O)Cl.Nc1ccccc1.c...           0.212445   \n",
       "18217  Nc1[nH]c(=O)[nH]c(=O)c1S(=O)(=O)Cl.CCOC(=O)c1c...           0.537600   \n",
       "18218  C=Cc1ccc(C[C@H](NC(=O)OC(C)(C)C)C(N)=O)cc1.C1=...           3.976320   \n",
       "\n",
       "                                   _Reaction__conditions  _Reaction__class_id  \\\n",
       "0      {'pressure': None, 'temperature': None, 'durat...                    0   \n",
       "1      {'pressure': None, 'temperature': None, 'durat...                    0   \n",
       "2      {'pressure': None, 'temperature': None, 'durat...                    0   \n",
       "3      {'pressure': None, 'temperature': None, 'durat...                    0   \n",
       "4      {'pressure': None, 'temperature': None, 'durat...                    0   \n",
       "...                                                  ...                  ...   \n",
       "18214  {'pressure': None, 'temperature': None, 'durat...                    0   \n",
       "18215  {'pressure': None, 'temperature': None, 'durat...                    0   \n",
       "18216  {'pressure': None, 'temperature': None, 'durat...                    0   \n",
       "18217  {'pressure': None, 'temperature': None, 'durat...                    0   \n",
       "18218  {'pressure': None, 'temperature': None, 'durat...                    0   \n",
       "\n",
       "      _Reaction__fps  _Reaction__mhfp _Reaction__id  _Reaction__quantity  \\\n",
       "0                 []                0  NB-00320.026                    0   \n",
       "1                 []                0  NB-00320.025                    0   \n",
       "2                 []                0  NB-00320.024                    0   \n",
       "3                 []                0  NB-00320.023                    0   \n",
       "4                 []                0  NB-00305.045                    0   \n",
       "...              ...              ...           ...                  ...   \n",
       "18214             []                0  NB-00001.004                    0   \n",
       "18215             []                0  NB-00001.003                    0   \n",
       "18216             []                0  NB-00001.002                    0   \n",
       "18217             []                0  NB-00001.001                    0   \n",
       "18218             []                0    NB-00002-1                    0   \n",
       "\n",
       "       has_solvent  product_yield  n_products  has_yield  \\\n",
       "0            False          85.20           1       True   \n",
       "1             True          59.91           1       True   \n",
       "2             True          31.99           1       True   \n",
       "3            False          30.30           1       True   \n",
       "4             True          50.00           1       True   \n",
       "...            ...            ...         ...        ...   \n",
       "18214        False            NaN           1      False   \n",
       "18215        False           3.20           1       True   \n",
       "18216        False            NaN           1      False   \n",
       "18217        False           0.45           1       True   \n",
       "18218         True          57.36           1       True   \n",
       "\n",
       "       has_yield_and_solvent solvent_smiles  has_solvent_smiles  \\\n",
       "0                      False            NaN               False   \n",
       "1                       True       CN(C)C=O                True   \n",
       "2                       True        C(Cl)Cl                True   \n",
       "3                      False            NaN               False   \n",
       "4                       True             CO                True   \n",
       "...                      ...            ...                 ...   \n",
       "18214                  False            NaN               False   \n",
       "18215                  False            NaN               False   \n",
       "18216                  False            NaN               False   \n",
       "18217                  False            NaN               False   \n",
       "18218                   True        C(Cl)Cl                True   \n",
       "\n",
       "       has_yield_and_solvent_smiles  \n",
       "0                             False  \n",
       "1                              True  \n",
       "2                              True  \n",
       "3                             False  \n",
       "4                              True  \n",
       "...                             ...  \n",
       "18214                         False  \n",
       "18215                         False  \n",
       "18216                         False  \n",
       "18217                         False  \n",
       "18218                          True  \n",
       "\n",
       "[18219 rows x 20 columns]"
      ]
     },
     "execution_count": 6,
     "metadata": {},
     "output_type": "execute_result"
    }
   ],
   "source": [
    "df"
   ]
  },
  {
   "cell_type": "code",
   "execution_count": 7,
   "metadata": {},
   "outputs": [],
   "source": [
    "df['rxn_smiles_with_solvent'] = df['_Reaction__rxn_smiles'] + df['solvent_smiles']"
   ]
  },
  {
   "cell_type": "code",
   "execution_count": 8,
   "metadata": {},
   "outputs": [],
   "source": [
    "def add_solvent_to_rxn(rxn, solvent):\n",
    "        if not (isinstance(rxn, str) and isinstance(solvent, str)):\n",
    "             return None\n",
    "        if len(solvent)>0 and len(rxn)>0:\n",
    "            splitted_rxn = rxn.split('>>')\n",
    "            #print(splitted_rxn)\n",
    "            if len(splitted_rxn)==3:\n",
    "                #if reactants+agents=products then add solvent to agents\n",
    "                agents = splitted_rxn[1]\n",
    "                agents += \".\" + solvent\n",
    "                splitted_rxn = splitted_rxn[0] + '>>' + agents + '>>' + splitted_rxn[2]\n",
    "            elif len(splitted_rxn)== 2:\n",
    "                #if reactants = products then add solvent as only agent\n",
    "                agents = solvent\n",
    "                splitted_rxn = splitted_rxn[0] + '>>'+  agents + '>>' + splitted_rxn[1]\n",
    "            else:\n",
    "                print('failed adding solvent')\n",
    "                splitted_rxn = None\n",
    "\n",
    "        return splitted_rxn\n",
    "\n"
   ]
  },
  {
   "cell_type": "code",
   "execution_count": 9,
   "metadata": {},
   "outputs": [
    {
     "name": "stderr",
     "output_type": "stream",
     "text": [
      "/tmp/ipykernel_354947/944449496.py:1: FutureWarning: Series.__getitem__ treating keys as positions is deprecated. In a future version, integer keys will always be treated as labels (consistent with DataFrame behavior). To access a value by position, use `ser.iloc[pos]`\n",
      "  df['rxn_smiles_with_solvent'] = df[['_Reaction__rxn_smiles', 'solvent_smiles']].apply(lambda x: add_solvent_to_rxn(x[0], x[1]), axis = 1)\n"
     ]
    }
   ],
   "source": [
    "df['rxn_smiles_with_solvent'] = df[['_Reaction__rxn_smiles', 'solvent_smiles']].apply(lambda x: add_solvent_to_rxn(x[0], x[1]), axis = 1)"
   ]
  },
  {
   "cell_type": "code",
   "execution_count": 10,
   "metadata": {},
   "outputs": [
    {
     "data": {
      "text/html": [
       "<div>\n",
       "<style scoped>\n",
       "    .dataframe tbody tr th:only-of-type {\n",
       "        vertical-align: middle;\n",
       "    }\n",
       "\n",
       "    .dataframe tbody tr th {\n",
       "        vertical-align: top;\n",
       "    }\n",
       "\n",
       "    .dataframe thead th {\n",
       "        text-align: right;\n",
       "    }\n",
       "</style>\n",
       "<table border=\"1\" class=\"dataframe\">\n",
       "  <thead>\n",
       "    <tr style=\"text-align: right;\">\n",
       "      <th></th>\n",
       "      <th>Unnamed: 0</th>\n",
       "      <th>_Reaction__reactants</th>\n",
       "      <th>_Reaction__solvents</th>\n",
       "      <th>_Reaction__products</th>\n",
       "      <th>_Reaction__rxn_smiles</th>\n",
       "      <th>_Reaction__volume</th>\n",
       "      <th>_Reaction__conditions</th>\n",
       "      <th>_Reaction__class_id</th>\n",
       "      <th>_Reaction__fps</th>\n",
       "      <th>_Reaction__mhfp</th>\n",
       "      <th>...</th>\n",
       "      <th>_Reaction__quantity</th>\n",
       "      <th>has_solvent</th>\n",
       "      <th>product_yield</th>\n",
       "      <th>n_products</th>\n",
       "      <th>has_yield</th>\n",
       "      <th>has_yield_and_solvent</th>\n",
       "      <th>solvent_smiles</th>\n",
       "      <th>has_solvent_smiles</th>\n",
       "      <th>has_yield_and_solvent_smiles</th>\n",
       "      <th>rxn_smiles_with_solvent</th>\n",
       "    </tr>\n",
       "  </thead>\n",
       "  <tbody>\n",
       "    <tr>\n",
       "      <th>0</th>\n",
       "      <td>0</td>\n",
       "      <td>[{'_Molecule__inchi': '', 'name': '', 'smiles'...</td>\n",
       "      <td>[]</td>\n",
       "      <td>[{'_Molecule__inchi': '', 'name': '', 'smiles'...</td>\n",
       "      <td>Cc1ccc(S(=O)(=O)NC[C@@H](COCc2ccccc2)OC(=O)OC(...</td>\n",
       "      <td>0.000000</td>\n",
       "      <td>{'pressure': None, 'temperature': None, 'durat...</td>\n",
       "      <td>0</td>\n",
       "      <td>[]</td>\n",
       "      <td>0</td>\n",
       "      <td>...</td>\n",
       "      <td>0</td>\n",
       "      <td>False</td>\n",
       "      <td>85.20</td>\n",
       "      <td>1</td>\n",
       "      <td>True</td>\n",
       "      <td>False</td>\n",
       "      <td>NaN</td>\n",
       "      <td>False</td>\n",
       "      <td>False</td>\n",
       "      <td>None</td>\n",
       "    </tr>\n",
       "    <tr>\n",
       "      <th>1</th>\n",
       "      <td>1</td>\n",
       "      <td>[{'_Molecule__inchi': '', 'name': '', 'smiles'...</td>\n",
       "      <td>[{'_Solvent__name': 'dimethylformamide', '_Sol...</td>\n",
       "      <td>[{'_Molecule__inchi': '', 'name': '', 'smiles'...</td>\n",
       "      <td>OC[C@H]1CO1.BrCc1ccccc1.C1=CC(=CN=C1)C(=O)O&gt;&gt;c...</td>\n",
       "      <td>100.000000</td>\n",
       "      <td>{'pressure': None, 'temperature': None, 'durat...</td>\n",
       "      <td>0</td>\n",
       "      <td>[]</td>\n",
       "      <td>0</td>\n",
       "      <td>...</td>\n",
       "      <td>0</td>\n",
       "      <td>True</td>\n",
       "      <td>59.91</td>\n",
       "      <td>1</td>\n",
       "      <td>True</td>\n",
       "      <td>True</td>\n",
       "      <td>CN(C)C=O</td>\n",
       "      <td>True</td>\n",
       "      <td>True</td>\n",
       "      <td>OC[C@H]1CO1.BrCc1ccccc1.C1=CC(=CN=C1)C(=O)O&gt;&gt;C...</td>\n",
       "    </tr>\n",
       "    <tr>\n",
       "      <th>2</th>\n",
       "      <td>2</td>\n",
       "      <td>[{'_Molecule__inchi': '', 'name': '', 'smiles'...</td>\n",
       "      <td>[{'_Solvent__name': 'dichloromethane', '_Solve...</td>\n",
       "      <td>[{'_Molecule__inchi': '', 'name': '', 'smiles'...</td>\n",
       "      <td>Cc1ccc(S(=O)(=O)N(C[C@@H](O)COCc2ccccc2)C[C@@H...</td>\n",
       "      <td>0.288208</td>\n",
       "      <td>{'pressure': None, 'temperature': None, 'durat...</td>\n",
       "      <td>0</td>\n",
       "      <td>[]</td>\n",
       "      <td>0</td>\n",
       "      <td>...</td>\n",
       "      <td>0</td>\n",
       "      <td>True</td>\n",
       "      <td>31.99</td>\n",
       "      <td>1</td>\n",
       "      <td>True</td>\n",
       "      <td>True</td>\n",
       "      <td>C(Cl)Cl</td>\n",
       "      <td>True</td>\n",
       "      <td>True</td>\n",
       "      <td>Cc1ccc(S(=O)(=O)N(C[C@@H](O)COCc2ccccc2)C[C@@H...</td>\n",
       "    </tr>\n",
       "    <tr>\n",
       "      <th>3</th>\n",
       "      <td>3</td>\n",
       "      <td>[{'_Molecule__inchi': '', 'name': '', 'smiles'...</td>\n",
       "      <td>[]</td>\n",
       "      <td>[{'_Molecule__inchi': '', 'name': '', 'smiles'...</td>\n",
       "      <td>c1ccc(COC[C@@H]2CO2)cc1.Cc1ccc(S(=O)(=O)NC(=O)...</td>\n",
       "      <td>0.000000</td>\n",
       "      <td>{'pressure': None, 'temperature': None, 'durat...</td>\n",
       "      <td>0</td>\n",
       "      <td>[]</td>\n",
       "      <td>0</td>\n",
       "      <td>...</td>\n",
       "      <td>0</td>\n",
       "      <td>False</td>\n",
       "      <td>30.30</td>\n",
       "      <td>1</td>\n",
       "      <td>True</td>\n",
       "      <td>False</td>\n",
       "      <td>NaN</td>\n",
       "      <td>False</td>\n",
       "      <td>False</td>\n",
       "      <td>None</td>\n",
       "    </tr>\n",
       "    <tr>\n",
       "      <th>4</th>\n",
       "      <td>4</td>\n",
       "      <td>[{'_Molecule__inchi': '', 'name': '', 'smiles'...</td>\n",
       "      <td>[{'_Solvent__name': 'methanol', '_Solvent__vol...</td>\n",
       "      <td>[{'_Molecule__inchi': '', 'name': '', 'smiles'...</td>\n",
       "      <td>COC(=O)[C@@]1(C)[C@H]2C(=O)N(C)C(=O)[C@H]2[C@@...</td>\n",
       "      <td>10.114293</td>\n",
       "      <td>{'pressure': None, 'temperature': None, 'durat...</td>\n",
       "      <td>0</td>\n",
       "      <td>[]</td>\n",
       "      <td>0</td>\n",
       "      <td>...</td>\n",
       "      <td>0</td>\n",
       "      <td>True</td>\n",
       "      <td>50.00</td>\n",
       "      <td>1</td>\n",
       "      <td>True</td>\n",
       "      <td>True</td>\n",
       "      <td>CO</td>\n",
       "      <td>True</td>\n",
       "      <td>True</td>\n",
       "      <td>COC(=O)[C@@]1(C)[C@H]2C(=O)N(C)C(=O)[C@H]2[C@@...</td>\n",
       "    </tr>\n",
       "    <tr>\n",
       "      <th>...</th>\n",
       "      <td>...</td>\n",
       "      <td>...</td>\n",
       "      <td>...</td>\n",
       "      <td>...</td>\n",
       "      <td>...</td>\n",
       "      <td>...</td>\n",
       "      <td>...</td>\n",
       "      <td>...</td>\n",
       "      <td>...</td>\n",
       "      <td>...</td>\n",
       "      <td>...</td>\n",
       "      <td>...</td>\n",
       "      <td>...</td>\n",
       "      <td>...</td>\n",
       "      <td>...</td>\n",
       "      <td>...</td>\n",
       "      <td>...</td>\n",
       "      <td>...</td>\n",
       "      <td>...</td>\n",
       "      <td>...</td>\n",
       "      <td>...</td>\n",
       "    </tr>\n",
       "    <tr>\n",
       "      <th>18214</th>\n",
       "      <td>18214</td>\n",
       "      <td>[{'_Molecule__inchi': '', 'name': '', 'smiles'...</td>\n",
       "      <td>[]</td>\n",
       "      <td>[{'_Molecule__inchi': '', 'name': '', 'smiles'...</td>\n",
       "      <td>Nc1[nH]c(=O)[nH]c(=O)c1S(=O)(=O)Cl.N#Cc1ccccc1...</td>\n",
       "      <td>0.239240</td>\n",
       "      <td>{'pressure': None, 'temperature': None, 'durat...</td>\n",
       "      <td>0</td>\n",
       "      <td>[]</td>\n",
       "      <td>0</td>\n",
       "      <td>...</td>\n",
       "      <td>0</td>\n",
       "      <td>False</td>\n",
       "      <td>NaN</td>\n",
       "      <td>1</td>\n",
       "      <td>False</td>\n",
       "      <td>False</td>\n",
       "      <td>NaN</td>\n",
       "      <td>False</td>\n",
       "      <td>False</td>\n",
       "      <td>None</td>\n",
       "    </tr>\n",
       "    <tr>\n",
       "      <th>18215</th>\n",
       "      <td>18215</td>\n",
       "      <td>[{'_Molecule__inchi': '', 'name': '', 'smiles'...</td>\n",
       "      <td>[]</td>\n",
       "      <td>[{'_Molecule__inchi': '', 'name': '', 'smiles'...</td>\n",
       "      <td>Nc1[nH]c(=O)[nH]c(=O)c1S(=O)(=O)Cl.COc1ccccc1N...</td>\n",
       "      <td>0.234090</td>\n",
       "      <td>{'pressure': None, 'temperature': None, 'durat...</td>\n",
       "      <td>0</td>\n",
       "      <td>[]</td>\n",
       "      <td>0</td>\n",
       "      <td>...</td>\n",
       "      <td>0</td>\n",
       "      <td>False</td>\n",
       "      <td>3.20</td>\n",
       "      <td>1</td>\n",
       "      <td>True</td>\n",
       "      <td>False</td>\n",
       "      <td>NaN</td>\n",
       "      <td>False</td>\n",
       "      <td>False</td>\n",
       "      <td>None</td>\n",
       "    </tr>\n",
       "    <tr>\n",
       "      <th>18216</th>\n",
       "      <td>18216</td>\n",
       "      <td>[{'_Molecule__inchi': '', 'name': '', 'smiles'...</td>\n",
       "      <td>[]</td>\n",
       "      <td>[{'_Molecule__inchi': '', 'name': '', 'smiles'...</td>\n",
       "      <td>Nc1[nH]c(=O)[nH]c(=O)c1S(=O)(=O)Cl.Nc1ccccc1.c...</td>\n",
       "      <td>0.212445</td>\n",
       "      <td>{'pressure': None, 'temperature': None, 'durat...</td>\n",
       "      <td>0</td>\n",
       "      <td>[]</td>\n",
       "      <td>0</td>\n",
       "      <td>...</td>\n",
       "      <td>0</td>\n",
       "      <td>False</td>\n",
       "      <td>NaN</td>\n",
       "      <td>1</td>\n",
       "      <td>False</td>\n",
       "      <td>False</td>\n",
       "      <td>NaN</td>\n",
       "      <td>False</td>\n",
       "      <td>False</td>\n",
       "      <td>None</td>\n",
       "    </tr>\n",
       "    <tr>\n",
       "      <th>18217</th>\n",
       "      <td>18217</td>\n",
       "      <td>[{'_Molecule__inchi': '', 'name': '', 'smiles'...</td>\n",
       "      <td>[]</td>\n",
       "      <td>[{'_Molecule__inchi': '', 'name': '4-(6-Amino-...</td>\n",
       "      <td>Nc1[nH]c(=O)[nH]c(=O)c1S(=O)(=O)Cl.CCOC(=O)c1c...</td>\n",
       "      <td>0.537600</td>\n",
       "      <td>{'pressure': None, 'temperature': None, 'durat...</td>\n",
       "      <td>0</td>\n",
       "      <td>[]</td>\n",
       "      <td>0</td>\n",
       "      <td>...</td>\n",
       "      <td>0</td>\n",
       "      <td>False</td>\n",
       "      <td>0.45</td>\n",
       "      <td>1</td>\n",
       "      <td>True</td>\n",
       "      <td>False</td>\n",
       "      <td>NaN</td>\n",
       "      <td>False</td>\n",
       "      <td>False</td>\n",
       "      <td>None</td>\n",
       "    </tr>\n",
       "    <tr>\n",
       "      <th>18218</th>\n",
       "      <td>18218</td>\n",
       "      <td>[{'_Molecule__inchi': '', 'name': '', 'smiles'...</td>\n",
       "      <td>[{'_Solvent__name': 'dichloromethane', '_Solve...</td>\n",
       "      <td>[{'_Molecule__inchi': '', 'name': '', 'smiles'...</td>\n",
       "      <td>C=Cc1ccc(C[C@H](NC(=O)OC(C)(C)C)C(N)=O)cc1.C1=...</td>\n",
       "      <td>3.976320</td>\n",
       "      <td>{'pressure': None, 'temperature': None, 'durat...</td>\n",
       "      <td>0</td>\n",
       "      <td>[]</td>\n",
       "      <td>0</td>\n",
       "      <td>...</td>\n",
       "      <td>0</td>\n",
       "      <td>True</td>\n",
       "      <td>57.36</td>\n",
       "      <td>1</td>\n",
       "      <td>True</td>\n",
       "      <td>True</td>\n",
       "      <td>C(Cl)Cl</td>\n",
       "      <td>True</td>\n",
       "      <td>True</td>\n",
       "      <td>C=Cc1ccc(C[C@H](NC(=O)OC(C)(C)C)C(N)=O)cc1.C1=...</td>\n",
       "    </tr>\n",
       "  </tbody>\n",
       "</table>\n",
       "<p>18219 rows × 21 columns</p>\n",
       "</div>"
      ],
      "text/plain": [
       "       Unnamed: 0                               _Reaction__reactants  \\\n",
       "0               0  [{'_Molecule__inchi': '', 'name': '', 'smiles'...   \n",
       "1               1  [{'_Molecule__inchi': '', 'name': '', 'smiles'...   \n",
       "2               2  [{'_Molecule__inchi': '', 'name': '', 'smiles'...   \n",
       "3               3  [{'_Molecule__inchi': '', 'name': '', 'smiles'...   \n",
       "4               4  [{'_Molecule__inchi': '', 'name': '', 'smiles'...   \n",
       "...           ...                                                ...   \n",
       "18214       18214  [{'_Molecule__inchi': '', 'name': '', 'smiles'...   \n",
       "18215       18215  [{'_Molecule__inchi': '', 'name': '', 'smiles'...   \n",
       "18216       18216  [{'_Molecule__inchi': '', 'name': '', 'smiles'...   \n",
       "18217       18217  [{'_Molecule__inchi': '', 'name': '', 'smiles'...   \n",
       "18218       18218  [{'_Molecule__inchi': '', 'name': '', 'smiles'...   \n",
       "\n",
       "                                     _Reaction__solvents  \\\n",
       "0                                                     []   \n",
       "1      [{'_Solvent__name': 'dimethylformamide', '_Sol...   \n",
       "2      [{'_Solvent__name': 'dichloromethane', '_Solve...   \n",
       "3                                                     []   \n",
       "4      [{'_Solvent__name': 'methanol', '_Solvent__vol...   \n",
       "...                                                  ...   \n",
       "18214                                                 []   \n",
       "18215                                                 []   \n",
       "18216                                                 []   \n",
       "18217                                                 []   \n",
       "18218  [{'_Solvent__name': 'dichloromethane', '_Solve...   \n",
       "\n",
       "                                     _Reaction__products  \\\n",
       "0      [{'_Molecule__inchi': '', 'name': '', 'smiles'...   \n",
       "1      [{'_Molecule__inchi': '', 'name': '', 'smiles'...   \n",
       "2      [{'_Molecule__inchi': '', 'name': '', 'smiles'...   \n",
       "3      [{'_Molecule__inchi': '', 'name': '', 'smiles'...   \n",
       "4      [{'_Molecule__inchi': '', 'name': '', 'smiles'...   \n",
       "...                                                  ...   \n",
       "18214  [{'_Molecule__inchi': '', 'name': '', 'smiles'...   \n",
       "18215  [{'_Molecule__inchi': '', 'name': '', 'smiles'...   \n",
       "18216  [{'_Molecule__inchi': '', 'name': '', 'smiles'...   \n",
       "18217  [{'_Molecule__inchi': '', 'name': '4-(6-Amino-...   \n",
       "18218  [{'_Molecule__inchi': '', 'name': '', 'smiles'...   \n",
       "\n",
       "                                   _Reaction__rxn_smiles  _Reaction__volume  \\\n",
       "0      Cc1ccc(S(=O)(=O)NC[C@@H](COCc2ccccc2)OC(=O)OC(...           0.000000   \n",
       "1      OC[C@H]1CO1.BrCc1ccccc1.C1=CC(=CN=C1)C(=O)O>>c...         100.000000   \n",
       "2      Cc1ccc(S(=O)(=O)N(C[C@@H](O)COCc2ccccc2)C[C@@H...           0.288208   \n",
       "3      c1ccc(COC[C@@H]2CO2)cc1.Cc1ccc(S(=O)(=O)NC(=O)...           0.000000   \n",
       "4      COC(=O)[C@@]1(C)[C@H]2C(=O)N(C)C(=O)[C@H]2[C@@...          10.114293   \n",
       "...                                                  ...                ...   \n",
       "18214  Nc1[nH]c(=O)[nH]c(=O)c1S(=O)(=O)Cl.N#Cc1ccccc1...           0.239240   \n",
       "18215  Nc1[nH]c(=O)[nH]c(=O)c1S(=O)(=O)Cl.COc1ccccc1N...           0.234090   \n",
       "18216  Nc1[nH]c(=O)[nH]c(=O)c1S(=O)(=O)Cl.Nc1ccccc1.c...           0.212445   \n",
       "18217  Nc1[nH]c(=O)[nH]c(=O)c1S(=O)(=O)Cl.CCOC(=O)c1c...           0.537600   \n",
       "18218  C=Cc1ccc(C[C@H](NC(=O)OC(C)(C)C)C(N)=O)cc1.C1=...           3.976320   \n",
       "\n",
       "                                   _Reaction__conditions  _Reaction__class_id  \\\n",
       "0      {'pressure': None, 'temperature': None, 'durat...                    0   \n",
       "1      {'pressure': None, 'temperature': None, 'durat...                    0   \n",
       "2      {'pressure': None, 'temperature': None, 'durat...                    0   \n",
       "3      {'pressure': None, 'temperature': None, 'durat...                    0   \n",
       "4      {'pressure': None, 'temperature': None, 'durat...                    0   \n",
       "...                                                  ...                  ...   \n",
       "18214  {'pressure': None, 'temperature': None, 'durat...                    0   \n",
       "18215  {'pressure': None, 'temperature': None, 'durat...                    0   \n",
       "18216  {'pressure': None, 'temperature': None, 'durat...                    0   \n",
       "18217  {'pressure': None, 'temperature': None, 'durat...                    0   \n",
       "18218  {'pressure': None, 'temperature': None, 'durat...                    0   \n",
       "\n",
       "      _Reaction__fps  _Reaction__mhfp  ... _Reaction__quantity  has_solvent  \\\n",
       "0                 []                0  ...                   0        False   \n",
       "1                 []                0  ...                   0         True   \n",
       "2                 []                0  ...                   0         True   \n",
       "3                 []                0  ...                   0        False   \n",
       "4                 []                0  ...                   0         True   \n",
       "...              ...              ...  ...                 ...          ...   \n",
       "18214             []                0  ...                   0        False   \n",
       "18215             []                0  ...                   0        False   \n",
       "18216             []                0  ...                   0        False   \n",
       "18217             []                0  ...                   0        False   \n",
       "18218             []                0  ...                   0         True   \n",
       "\n",
       "       product_yield  n_products  has_yield  has_yield_and_solvent  \\\n",
       "0              85.20           1       True                  False   \n",
       "1              59.91           1       True                   True   \n",
       "2              31.99           1       True                   True   \n",
       "3              30.30           1       True                  False   \n",
       "4              50.00           1       True                   True   \n",
       "...              ...         ...        ...                    ...   \n",
       "18214            NaN           1      False                  False   \n",
       "18215           3.20           1       True                  False   \n",
       "18216            NaN           1      False                  False   \n",
       "18217           0.45           1       True                  False   \n",
       "18218          57.36           1       True                   True   \n",
       "\n",
       "       solvent_smiles has_solvent_smiles  has_yield_and_solvent_smiles  \\\n",
       "0                 NaN              False                         False   \n",
       "1            CN(C)C=O               True                          True   \n",
       "2             C(Cl)Cl               True                          True   \n",
       "3                 NaN              False                         False   \n",
       "4                  CO               True                          True   \n",
       "...               ...                ...                           ...   \n",
       "18214             NaN              False                         False   \n",
       "18215             NaN              False                         False   \n",
       "18216             NaN              False                         False   \n",
       "18217             NaN              False                         False   \n",
       "18218         C(Cl)Cl               True                          True   \n",
       "\n",
       "                                 rxn_smiles_with_solvent  \n",
       "0                                                   None  \n",
       "1      OC[C@H]1CO1.BrCc1ccccc1.C1=CC(=CN=C1)C(=O)O>>C...  \n",
       "2      Cc1ccc(S(=O)(=O)N(C[C@@H](O)COCc2ccccc2)C[C@@H...  \n",
       "3                                                   None  \n",
       "4      COC(=O)[C@@]1(C)[C@H]2C(=O)N(C)C(=O)[C@H]2[C@@...  \n",
       "...                                                  ...  \n",
       "18214                                               None  \n",
       "18215                                               None  \n",
       "18216                                               None  \n",
       "18217                                               None  \n",
       "18218  C=Cc1ccc(C[C@H](NC(=O)OC(C)(C)C)C(N)=O)cc1.C1=...  \n",
       "\n",
       "[18219 rows x 21 columns]"
      ]
     },
     "execution_count": 10,
     "metadata": {},
     "output_type": "execute_result"
    }
   ],
   "source": [
    "df"
   ]
  },
  {
   "cell_type": "code",
   "execution_count": 11,
   "metadata": {},
   "outputs": [
    {
     "name": "stderr",
     "output_type": "stream",
     "text": [
      "/tmp/ipykernel_354947/4215039764.py:1: FutureWarning: Series.__getitem__ treating keys as positions is deprecated. In a future version, integer keys will always be treated as labels (consistent with DataFrame behavior). To access a value by position, use `ser.iloc[pos]`\n",
      "  df['has_yield_and_rxn_solvent_smiles'] = df[['has_yield', 'rxn_smiles_with_solvent']].apply(lambda x: True if x[0] and isinstance(x[1],str) else False, axis=1)\n"
     ]
    }
   ],
   "source": [
    "df['has_yield_and_rxn_solvent_smiles'] = df[['has_yield', 'rxn_smiles_with_solvent']].apply(lambda x: True if x[0] and isinstance(x[1],str) else False, axis=1)\n"
   ]
  },
  {
   "cell_type": "code",
   "execution_count": 12,
   "metadata": {},
   "outputs": [],
   "source": [
    "df['rxn_smiles_with_solvent_len'] = df['rxn_smiles_with_solvent'].apply(lambda x: len(x) if isinstance(x, str) else 0)\n"
   ]
  },
  {
   "cell_type": "code",
   "execution_count": 13,
   "metadata": {},
   "outputs": [],
   "source": [
    "df['product_yield'] = df['product_yield']/100"
   ]
  },
  {
   "cell_type": "code",
   "execution_count": 14,
   "metadata": {},
   "outputs": [
    {
     "data": {
      "text/plain": [
       "RobertaClassificationHead(\n",
       "  (dense): Linear(in_features=768, out_features=768, bias=True)\n",
       "  (dropout): Dropout(p=0.1, inplace=False)\n",
       "  (out_proj): Linear(in_features=768, out_features=1, bias=True)\n",
       ")"
      ]
     },
     "execution_count": 14,
     "metadata": {},
     "output_type": "execute_result"
    }
   ],
   "source": [
    "#model.classifier = nn.Sequential(\n",
    "#    nn.Linear(768, 258),\n",
    "#    nn.Linear(258, 1),\n",
    "#    nn.Sigmoid()\n",
    "#)\n",
    "model.classifier"
   ]
  },
  {
   "cell_type": "code",
   "execution_count": 15,
   "metadata": {},
   "outputs": [],
   "source": [
    "#Preparing dataset\n",
    "class smilesDataset(Dataset):\n",
    "        def __init__(self, df) -> None:\n",
    "                super().__init__()\n",
    "                self.smiles = df['rxn_smiles_with_solvent']\n",
    "                self.labels = df['product_yield']\n",
    "        \n",
    "        def __len__(self):\n",
    "                return self.smiles.shape[0]\n",
    "        \n",
    "        def __getitem__(self, index) -> None:\n",
    "                return tensor(tokenizer.encode(self.smiles.iloc[index], padding=\"max_length\", max_length=512, truncation= True)), tensor(self.labels.iloc[index])\n"
   ]
  },
  {
   "cell_type": "code",
   "execution_count": 31,
   "metadata": {},
   "outputs": [],
   "source": [
    "mask = df['has_yield_and_rxn_solvent_smiles']== True\n",
    "train_df, test_df = train_test_split(df[mask])\n",
    "train_dataset = smilesDataset(train_df)\n",
    "eval_dataset = smilesDataset(test_df)"
   ]
  },
  {
   "cell_type": "code",
   "execution_count": 32,
   "metadata": {},
   "outputs": [],
   "source": [
    "batch_size = 1\n",
    "train_dataloader = DataLoader(train_dataset, shuffle=True, batch_size=batch_size)\n",
    "\n",
    "eval_dataloader = DataLoader(eval_dataset, batch_size=batch_size)"
   ]
  },
  {
   "cell_type": "code",
   "execution_count": 33,
   "metadata": {},
   "outputs": [
    {
     "data": {
      "text/plain": [
       "(7520,)"
      ]
     },
     "execution_count": 33,
     "metadata": {},
     "output_type": "execute_result"
    }
   ],
   "source": [
    "df[mask]['rxn_smiles_with_solvent'].shape"
   ]
  },
  {
   "cell_type": "code",
   "execution_count": 34,
   "metadata": {},
   "outputs": [
    {
     "data": {
      "text/plain": [
       "(7520,)"
      ]
     },
     "execution_count": 34,
     "metadata": {},
     "output_type": "execute_result"
    }
   ],
   "source": [
    "df[mask]['product_yield'].shape"
   ]
  },
  {
   "cell_type": "code",
   "execution_count": 35,
   "metadata": {},
   "outputs": [
    {
     "name": "stdout",
     "output_type": "stream",
     "text": [
      "Shape of X [N, C, H, W]: torch.Size([1, 512])\n",
      "Shape of y: torch.Size([1]) torch.float64\n"
     ]
    }
   ],
   "source": [
    "for X, y in eval_dataloader:\n",
    "    print(f\"Shape of X [N, C, H, W]: {X.shape}\")\n",
    "    print(f\"Shape of y: {y.shape} {y.dtype}\")\n",
    "    break"
   ]
  },
  {
   "cell_type": "code",
   "execution_count": 36,
   "metadata": {},
   "outputs": [
    {
     "name": "stdout",
     "output_type": "stream",
     "text": [
      "cpu\n"
     ]
    }
   ],
   "source": [
    "device = torch.device(\"cuda\") if torch.cuda.is_available() else torch.device(\"cpu\")\n",
    "print(device)\n",
    "model.to(device)\n",
    "criterion = nn.MSELoss()\n",
    "\n",
    "optimizer = optim.Adam(model.parameters(), lr= 0.001)"
   ]
  },
  {
   "cell_type": "code",
   "execution_count": 37,
   "metadata": {},
   "outputs": [],
   "source": [
    "\n",
    "num_epochs = 3\n",
    "\n",
    "num_training_steps = num_epochs * len(train_dataloader)\n",
    "\n",
    "lr_scheduler = get_scheduler(\n",
    "\n",
    "    name=\"linear\", optimizer=optimizer, num_warmup_steps=0, num_training_steps=num_training_steps\n",
    "\n",
    ")"
   ]
  },
  {
   "cell_type": "code",
   "execution_count": 38,
   "metadata": {},
   "outputs": [
    {
     "name": "stderr",
     "output_type": "stream",
     "text": [
      "  0%|          | 0/16920 [00:00<?, ?it/s]"
     ]
    },
    {
     "name": "stdout",
     "output_type": "stream",
     "text": [
      "batch number 0, batch cumloss 0.01737332157790661\n"
     ]
    },
    {
     "name": "stderr",
     "output_type": "stream",
     "text": [
      "  0%|          | 1/16920 [00:02<9:41:38,  2.06s/it]"
     ]
    },
    {
     "name": "stdout",
     "output_type": "stream",
     "text": [
      "batch number 1, batch cumloss 0.08317232131958008\n"
     ]
    },
    {
     "name": "stderr",
     "output_type": "stream",
     "text": [
      "  0%|          | 2/16920 [00:04<9:23:07,  2.00s/it]"
     ]
    },
    {
     "name": "stdout",
     "output_type": "stream",
     "text": [
      "batch number 2, batch cumloss 0.15166504681110382\n"
     ]
    },
    {
     "name": "stderr",
     "output_type": "stream",
     "text": [
      "  0%|          | 3/16920 [00:06<9:43:41,  2.07s/it]"
     ]
    },
    {
     "name": "stdout",
     "output_type": "stream",
     "text": [
      "batch number 3, batch cumloss 0.11374939233064651\n"
     ]
    },
    {
     "name": "stderr",
     "output_type": "stream",
     "text": [
      "  0%|          | 4/16920 [00:07<8:59:27,  1.91s/it]"
     ]
    },
    {
     "name": "stdout",
     "output_type": "stream",
     "text": [
      "batch number 4, batch cumloss 0.09099951386451721\n"
     ]
    },
    {
     "name": "stderr",
     "output_type": "stream",
     "text": [
      "  0%|          | 5/16920 [00:09<8:43:13,  1.86s/it]"
     ]
    },
    {
     "name": "stdout",
     "output_type": "stream",
     "text": [
      "batch number 5, batch cumloss 0.08141861110925674\n"
     ]
    },
    {
     "name": "stderr",
     "output_type": "stream",
     "text": [
      "  0%|          | 6/16920 [00:11<9:12:59,  1.96s/it]"
     ]
    },
    {
     "name": "stdout",
     "output_type": "stream",
     "text": [
      "batch number 6, batch cumloss 0.10849408060312271\n"
     ]
    },
    {
     "name": "stderr",
     "output_type": "stream",
     "text": [
      "  0%|          | 7/16920 [00:13<9:23:19,  2.00s/it]"
     ]
    },
    {
     "name": "stdout",
     "output_type": "stream",
     "text": [
      "batch number 7, batch cumloss 0.09872269630432129\n"
     ]
    },
    {
     "name": "stderr",
     "output_type": "stream",
     "text": [
      "  0%|          | 8/16920 [00:16<9:55:04,  2.11s/it]"
     ]
    },
    {
     "name": "stdout",
     "output_type": "stream",
     "text": [
      "batch number 8, batch cumloss 0.10943450778722763\n"
     ]
    },
    {
     "name": "stderr",
     "output_type": "stream",
     "text": [
      "  0%|          | 9/16920 [00:19<11:05:50,  2.36s/it]"
     ]
    },
    {
     "name": "stdout",
     "output_type": "stream",
     "text": [
      "batch number 9, batch cumloss 0.12335677444934845\n"
     ]
    },
    {
     "name": "stderr",
     "output_type": "stream",
     "text": [
      "  0%|          | 10/16920 [00:21<11:20:21,  2.41s/it]"
     ]
    },
    {
     "name": "stdout",
     "output_type": "stream",
     "text": [
      "batch number 10, batch cumloss 0.15288445353507996\n"
     ]
    },
    {
     "name": "stderr",
     "output_type": "stream",
     "text": [
      "  0%|          | 11/16920 [00:23<10:53:06,  2.32s/it]"
     ]
    },
    {
     "name": "stdout",
     "output_type": "stream",
     "text": [
      "batch number 11, batch cumloss 0.16245684027671814\n"
     ]
    },
    {
     "name": "stderr",
     "output_type": "stream",
     "text": [
      "  0%|          | 12/16920 [00:26<11:23:48,  2.43s/it]"
     ]
    },
    {
     "name": "stdout",
     "output_type": "stream",
     "text": [
      "batch number 12, batch cumloss 0.15104401111602783\n"
     ]
    },
    {
     "name": "stderr",
     "output_type": "stream",
     "text": [
      "  0%|          | 13/16920 [00:29<11:48:48,  2.52s/it]"
     ]
    },
    {
     "name": "stdout",
     "output_type": "stream",
     "text": [
      "batch number 13, batch cumloss 0.1513596922159195\n"
     ]
    },
    {
     "name": "stderr",
     "output_type": "stream",
     "text": [
      "  0%|          | 14/16920 [00:32<13:14:43,  2.82s/it]"
     ]
    },
    {
     "name": "stdout",
     "output_type": "stream",
     "text": [
      "batch number 14, batch cumloss 0.15569165349006653\n"
     ]
    },
    {
     "ename": "KeyboardInterrupt",
     "evalue": "",
     "output_type": "error",
     "traceback": [
      "\u001b[0;31m---------------------------------------------------------------------------\u001b[0m",
      "\u001b[0;31mKeyboardInterrupt\u001b[0m                         Traceback (most recent call last)",
      "Cell \u001b[0;32mIn[38], line 18\u001b[0m\n\u001b[1;32m     16\u001b[0m \u001b[38;5;28mprint\u001b[39m(\u001b[38;5;124mf\u001b[39m\u001b[38;5;124m'\u001b[39m\u001b[38;5;124mbatch number \u001b[39m\u001b[38;5;132;01m{\u001b[39;00mi\u001b[38;5;132;01m}\u001b[39;00m\u001b[38;5;124m, batch cumloss \u001b[39m\u001b[38;5;132;01m{\u001b[39;00mepoch_cum_loss\u001b[38;5;241m/\u001b[39m(i\u001b[38;5;241m+\u001b[39m\u001b[38;5;241m1\u001b[39m)\u001b[38;5;132;01m}\u001b[39;00m\u001b[38;5;124m'\u001b[39m)\n\u001b[1;32m     17\u001b[0m loss\u001b[38;5;241m.\u001b[39mbackward()\n\u001b[0;32m---> 18\u001b[0m \u001b[43moptimizer\u001b[49m\u001b[38;5;241;43m.\u001b[39;49m\u001b[43mstep\u001b[49m\u001b[43m(\u001b[49m\u001b[43m)\u001b[49m\n\u001b[1;32m     19\u001b[0m lr_scheduler\u001b[38;5;241m.\u001b[39mstep()\n\u001b[1;32m     20\u001b[0m progress_bar\u001b[38;5;241m.\u001b[39mupdate(\u001b[38;5;241m1\u001b[39m)\n",
      "File \u001b[0;32m~/.conda/envs/vlab/lib/python3.12/site-packages/torch/optim/lr_scheduler.py:75\u001b[0m, in \u001b[0;36mLRScheduler.__init__.<locals>.with_counter.<locals>.wrapper\u001b[0;34m(*args, **kwargs)\u001b[0m\n\u001b[1;32m     73\u001b[0m instance\u001b[38;5;241m.\u001b[39m_step_count \u001b[38;5;241m+\u001b[39m\u001b[38;5;241m=\u001b[39m \u001b[38;5;241m1\u001b[39m\n\u001b[1;32m     74\u001b[0m wrapped \u001b[38;5;241m=\u001b[39m func\u001b[38;5;241m.\u001b[39m\u001b[38;5;21m__get__\u001b[39m(instance, \u001b[38;5;28mcls\u001b[39m)\n\u001b[0;32m---> 75\u001b[0m \u001b[38;5;28;01mreturn\u001b[39;00m \u001b[43mwrapped\u001b[49m\u001b[43m(\u001b[49m\u001b[38;5;241;43m*\u001b[39;49m\u001b[43margs\u001b[49m\u001b[43m,\u001b[49m\u001b[43m \u001b[49m\u001b[38;5;241;43m*\u001b[39;49m\u001b[38;5;241;43m*\u001b[39;49m\u001b[43mkwargs\u001b[49m\u001b[43m)\u001b[49m\n",
      "File \u001b[0;32m~/.conda/envs/vlab/lib/python3.12/site-packages/torch/optim/optimizer.py:391\u001b[0m, in \u001b[0;36mOptimizer.profile_hook_step.<locals>.wrapper\u001b[0;34m(*args, **kwargs)\u001b[0m\n\u001b[1;32m    386\u001b[0m         \u001b[38;5;28;01melse\u001b[39;00m:\n\u001b[1;32m    387\u001b[0m             \u001b[38;5;28;01mraise\u001b[39;00m \u001b[38;5;167;01mRuntimeError\u001b[39;00m(\n\u001b[1;32m    388\u001b[0m                 \u001b[38;5;124mf\u001b[39m\u001b[38;5;124m\"\u001b[39m\u001b[38;5;132;01m{\u001b[39;00mfunc\u001b[38;5;132;01m}\u001b[39;00m\u001b[38;5;124m must return None or a tuple of (new_args, new_kwargs), but got \u001b[39m\u001b[38;5;132;01m{\u001b[39;00mresult\u001b[38;5;132;01m}\u001b[39;00m\u001b[38;5;124m.\u001b[39m\u001b[38;5;124m\"\u001b[39m\n\u001b[1;32m    389\u001b[0m             )\n\u001b[0;32m--> 391\u001b[0m out \u001b[38;5;241m=\u001b[39m \u001b[43mfunc\u001b[49m\u001b[43m(\u001b[49m\u001b[38;5;241;43m*\u001b[39;49m\u001b[43margs\u001b[49m\u001b[43m,\u001b[49m\u001b[43m \u001b[49m\u001b[38;5;241;43m*\u001b[39;49m\u001b[38;5;241;43m*\u001b[39;49m\u001b[43mkwargs\u001b[49m\u001b[43m)\u001b[49m\n\u001b[1;32m    392\u001b[0m \u001b[38;5;28mself\u001b[39m\u001b[38;5;241m.\u001b[39m_optimizer_step_code()\n\u001b[1;32m    394\u001b[0m \u001b[38;5;66;03m# call optimizer step post hooks\u001b[39;00m\n",
      "File \u001b[0;32m~/.conda/envs/vlab/lib/python3.12/site-packages/torch/optim/optimizer.py:76\u001b[0m, in \u001b[0;36m_use_grad_for_differentiable.<locals>._use_grad\u001b[0;34m(self, *args, **kwargs)\u001b[0m\n\u001b[1;32m     74\u001b[0m     torch\u001b[38;5;241m.\u001b[39mset_grad_enabled(\u001b[38;5;28mself\u001b[39m\u001b[38;5;241m.\u001b[39mdefaults[\u001b[38;5;124m'\u001b[39m\u001b[38;5;124mdifferentiable\u001b[39m\u001b[38;5;124m'\u001b[39m])\n\u001b[1;32m     75\u001b[0m     torch\u001b[38;5;241m.\u001b[39m_dynamo\u001b[38;5;241m.\u001b[39mgraph_break()\n\u001b[0;32m---> 76\u001b[0m     ret \u001b[38;5;241m=\u001b[39m \u001b[43mfunc\u001b[49m\u001b[43m(\u001b[49m\u001b[38;5;28;43mself\u001b[39;49m\u001b[43m,\u001b[49m\u001b[43m \u001b[49m\u001b[38;5;241;43m*\u001b[39;49m\u001b[43margs\u001b[49m\u001b[43m,\u001b[49m\u001b[43m \u001b[49m\u001b[38;5;241;43m*\u001b[39;49m\u001b[38;5;241;43m*\u001b[39;49m\u001b[43mkwargs\u001b[49m\u001b[43m)\u001b[49m\n\u001b[1;32m     77\u001b[0m \u001b[38;5;28;01mfinally\u001b[39;00m:\n\u001b[1;32m     78\u001b[0m     torch\u001b[38;5;241m.\u001b[39m_dynamo\u001b[38;5;241m.\u001b[39mgraph_break()\n",
      "File \u001b[0;32m~/.conda/envs/vlab/lib/python3.12/site-packages/torch/optim/adam.py:168\u001b[0m, in \u001b[0;36mAdam.step\u001b[0;34m(self, closure)\u001b[0m\n\u001b[1;32m    157\u001b[0m     beta1, beta2 \u001b[38;5;241m=\u001b[39m group[\u001b[38;5;124m'\u001b[39m\u001b[38;5;124mbetas\u001b[39m\u001b[38;5;124m'\u001b[39m]\n\u001b[1;32m    159\u001b[0m     has_complex \u001b[38;5;241m=\u001b[39m \u001b[38;5;28mself\u001b[39m\u001b[38;5;241m.\u001b[39m_init_group(\n\u001b[1;32m    160\u001b[0m         group,\n\u001b[1;32m    161\u001b[0m         params_with_grad,\n\u001b[0;32m   (...)\u001b[0m\n\u001b[1;32m    165\u001b[0m         max_exp_avg_sqs,\n\u001b[1;32m    166\u001b[0m         state_steps)\n\u001b[0;32m--> 168\u001b[0m     \u001b[43madam\u001b[49m\u001b[43m(\u001b[49m\n\u001b[1;32m    169\u001b[0m \u001b[43m        \u001b[49m\u001b[43mparams_with_grad\u001b[49m\u001b[43m,\u001b[49m\n\u001b[1;32m    170\u001b[0m \u001b[43m        \u001b[49m\u001b[43mgrads\u001b[49m\u001b[43m,\u001b[49m\n\u001b[1;32m    171\u001b[0m \u001b[43m        \u001b[49m\u001b[43mexp_avgs\u001b[49m\u001b[43m,\u001b[49m\n\u001b[1;32m    172\u001b[0m \u001b[43m        \u001b[49m\u001b[43mexp_avg_sqs\u001b[49m\u001b[43m,\u001b[49m\n\u001b[1;32m    173\u001b[0m \u001b[43m        \u001b[49m\u001b[43mmax_exp_avg_sqs\u001b[49m\u001b[43m,\u001b[49m\n\u001b[1;32m    174\u001b[0m \u001b[43m        \u001b[49m\u001b[43mstate_steps\u001b[49m\u001b[43m,\u001b[49m\n\u001b[1;32m    175\u001b[0m \u001b[43m        \u001b[49m\u001b[43mamsgrad\u001b[49m\u001b[38;5;241;43m=\u001b[39;49m\u001b[43mgroup\u001b[49m\u001b[43m[\u001b[49m\u001b[38;5;124;43m'\u001b[39;49m\u001b[38;5;124;43mamsgrad\u001b[39;49m\u001b[38;5;124;43m'\u001b[39;49m\u001b[43m]\u001b[49m\u001b[43m,\u001b[49m\n\u001b[1;32m    176\u001b[0m \u001b[43m        \u001b[49m\u001b[43mhas_complex\u001b[49m\u001b[38;5;241;43m=\u001b[39;49m\u001b[43mhas_complex\u001b[49m\u001b[43m,\u001b[49m\n\u001b[1;32m    177\u001b[0m \u001b[43m        \u001b[49m\u001b[43mbeta1\u001b[49m\u001b[38;5;241;43m=\u001b[39;49m\u001b[43mbeta1\u001b[49m\u001b[43m,\u001b[49m\n\u001b[1;32m    178\u001b[0m \u001b[43m        \u001b[49m\u001b[43mbeta2\u001b[49m\u001b[38;5;241;43m=\u001b[39;49m\u001b[43mbeta2\u001b[49m\u001b[43m,\u001b[49m\n\u001b[1;32m    179\u001b[0m \u001b[43m        \u001b[49m\u001b[43mlr\u001b[49m\u001b[38;5;241;43m=\u001b[39;49m\u001b[43mgroup\u001b[49m\u001b[43m[\u001b[49m\u001b[38;5;124;43m'\u001b[39;49m\u001b[38;5;124;43mlr\u001b[39;49m\u001b[38;5;124;43m'\u001b[39;49m\u001b[43m]\u001b[49m\u001b[43m,\u001b[49m\n\u001b[1;32m    180\u001b[0m \u001b[43m        \u001b[49m\u001b[43mweight_decay\u001b[49m\u001b[38;5;241;43m=\u001b[39;49m\u001b[43mgroup\u001b[49m\u001b[43m[\u001b[49m\u001b[38;5;124;43m'\u001b[39;49m\u001b[38;5;124;43mweight_decay\u001b[39;49m\u001b[38;5;124;43m'\u001b[39;49m\u001b[43m]\u001b[49m\u001b[43m,\u001b[49m\n\u001b[1;32m    181\u001b[0m \u001b[43m        \u001b[49m\u001b[43meps\u001b[49m\u001b[38;5;241;43m=\u001b[39;49m\u001b[43mgroup\u001b[49m\u001b[43m[\u001b[49m\u001b[38;5;124;43m'\u001b[39;49m\u001b[38;5;124;43meps\u001b[39;49m\u001b[38;5;124;43m'\u001b[39;49m\u001b[43m]\u001b[49m\u001b[43m,\u001b[49m\n\u001b[1;32m    182\u001b[0m \u001b[43m        \u001b[49m\u001b[43mmaximize\u001b[49m\u001b[38;5;241;43m=\u001b[39;49m\u001b[43mgroup\u001b[49m\u001b[43m[\u001b[49m\u001b[38;5;124;43m'\u001b[39;49m\u001b[38;5;124;43mmaximize\u001b[39;49m\u001b[38;5;124;43m'\u001b[39;49m\u001b[43m]\u001b[49m\u001b[43m,\u001b[49m\n\u001b[1;32m    183\u001b[0m \u001b[43m        \u001b[49m\u001b[43mforeach\u001b[49m\u001b[38;5;241;43m=\u001b[39;49m\u001b[43mgroup\u001b[49m\u001b[43m[\u001b[49m\u001b[38;5;124;43m'\u001b[39;49m\u001b[38;5;124;43mforeach\u001b[39;49m\u001b[38;5;124;43m'\u001b[39;49m\u001b[43m]\u001b[49m\u001b[43m,\u001b[49m\n\u001b[1;32m    184\u001b[0m \u001b[43m        \u001b[49m\u001b[43mcapturable\u001b[49m\u001b[38;5;241;43m=\u001b[39;49m\u001b[43mgroup\u001b[49m\u001b[43m[\u001b[49m\u001b[38;5;124;43m'\u001b[39;49m\u001b[38;5;124;43mcapturable\u001b[39;49m\u001b[38;5;124;43m'\u001b[39;49m\u001b[43m]\u001b[49m\u001b[43m,\u001b[49m\n\u001b[1;32m    185\u001b[0m \u001b[43m        \u001b[49m\u001b[43mdifferentiable\u001b[49m\u001b[38;5;241;43m=\u001b[39;49m\u001b[43mgroup\u001b[49m\u001b[43m[\u001b[49m\u001b[38;5;124;43m'\u001b[39;49m\u001b[38;5;124;43mdifferentiable\u001b[39;49m\u001b[38;5;124;43m'\u001b[39;49m\u001b[43m]\u001b[49m\u001b[43m,\u001b[49m\n\u001b[1;32m    186\u001b[0m \u001b[43m        \u001b[49m\u001b[43mfused\u001b[49m\u001b[38;5;241;43m=\u001b[39;49m\u001b[43mgroup\u001b[49m\u001b[43m[\u001b[49m\u001b[38;5;124;43m'\u001b[39;49m\u001b[38;5;124;43mfused\u001b[39;49m\u001b[38;5;124;43m'\u001b[39;49m\u001b[43m]\u001b[49m\u001b[43m,\u001b[49m\n\u001b[1;32m    187\u001b[0m \u001b[43m        \u001b[49m\u001b[43mgrad_scale\u001b[49m\u001b[38;5;241;43m=\u001b[39;49m\u001b[38;5;28;43mgetattr\u001b[39;49m\u001b[43m(\u001b[49m\u001b[38;5;28;43mself\u001b[39;49m\u001b[43m,\u001b[49m\u001b[43m \u001b[49m\u001b[38;5;124;43m\"\u001b[39;49m\u001b[38;5;124;43mgrad_scale\u001b[39;49m\u001b[38;5;124;43m\"\u001b[39;49m\u001b[43m,\u001b[49m\u001b[43m \u001b[49m\u001b[38;5;28;43;01mNone\u001b[39;49;00m\u001b[43m)\u001b[49m\u001b[43m,\u001b[49m\n\u001b[1;32m    188\u001b[0m \u001b[43m        \u001b[49m\u001b[43mfound_inf\u001b[49m\u001b[38;5;241;43m=\u001b[39;49m\u001b[38;5;28;43mgetattr\u001b[39;49m\u001b[43m(\u001b[49m\u001b[38;5;28;43mself\u001b[39;49m\u001b[43m,\u001b[49m\u001b[43m \u001b[49m\u001b[38;5;124;43m\"\u001b[39;49m\u001b[38;5;124;43mfound_inf\u001b[39;49m\u001b[38;5;124;43m\"\u001b[39;49m\u001b[43m,\u001b[49m\u001b[43m \u001b[49m\u001b[38;5;28;43;01mNone\u001b[39;49;00m\u001b[43m)\u001b[49m\u001b[43m,\u001b[49m\n\u001b[1;32m    189\u001b[0m \u001b[43m    \u001b[49m\u001b[43m)\u001b[49m\n\u001b[1;32m    191\u001b[0m \u001b[38;5;28;01mreturn\u001b[39;00m loss\n",
      "File \u001b[0;32m~/.conda/envs/vlab/lib/python3.12/site-packages/torch/optim/adam.py:318\u001b[0m, in \u001b[0;36madam\u001b[0;34m(params, grads, exp_avgs, exp_avg_sqs, max_exp_avg_sqs, state_steps, foreach, capturable, differentiable, fused, grad_scale, found_inf, has_complex, amsgrad, beta1, beta2, lr, weight_decay, eps, maximize)\u001b[0m\n\u001b[1;32m    315\u001b[0m \u001b[38;5;28;01melse\u001b[39;00m:\n\u001b[1;32m    316\u001b[0m     func \u001b[38;5;241m=\u001b[39m _single_tensor_adam\n\u001b[0;32m--> 318\u001b[0m \u001b[43mfunc\u001b[49m\u001b[43m(\u001b[49m\u001b[43mparams\u001b[49m\u001b[43m,\u001b[49m\n\u001b[1;32m    319\u001b[0m \u001b[43m     \u001b[49m\u001b[43mgrads\u001b[49m\u001b[43m,\u001b[49m\n\u001b[1;32m    320\u001b[0m \u001b[43m     \u001b[49m\u001b[43mexp_avgs\u001b[49m\u001b[43m,\u001b[49m\n\u001b[1;32m    321\u001b[0m \u001b[43m     \u001b[49m\u001b[43mexp_avg_sqs\u001b[49m\u001b[43m,\u001b[49m\n\u001b[1;32m    322\u001b[0m \u001b[43m     \u001b[49m\u001b[43mmax_exp_avg_sqs\u001b[49m\u001b[43m,\u001b[49m\n\u001b[1;32m    323\u001b[0m \u001b[43m     \u001b[49m\u001b[43mstate_steps\u001b[49m\u001b[43m,\u001b[49m\n\u001b[1;32m    324\u001b[0m \u001b[43m     \u001b[49m\u001b[43mamsgrad\u001b[49m\u001b[38;5;241;43m=\u001b[39;49m\u001b[43mamsgrad\u001b[49m\u001b[43m,\u001b[49m\n\u001b[1;32m    325\u001b[0m \u001b[43m     \u001b[49m\u001b[43mhas_complex\u001b[49m\u001b[38;5;241;43m=\u001b[39;49m\u001b[43mhas_complex\u001b[49m\u001b[43m,\u001b[49m\n\u001b[1;32m    326\u001b[0m \u001b[43m     \u001b[49m\u001b[43mbeta1\u001b[49m\u001b[38;5;241;43m=\u001b[39;49m\u001b[43mbeta1\u001b[49m\u001b[43m,\u001b[49m\n\u001b[1;32m    327\u001b[0m \u001b[43m     \u001b[49m\u001b[43mbeta2\u001b[49m\u001b[38;5;241;43m=\u001b[39;49m\u001b[43mbeta2\u001b[49m\u001b[43m,\u001b[49m\n\u001b[1;32m    328\u001b[0m \u001b[43m     \u001b[49m\u001b[43mlr\u001b[49m\u001b[38;5;241;43m=\u001b[39;49m\u001b[43mlr\u001b[49m\u001b[43m,\u001b[49m\n\u001b[1;32m    329\u001b[0m \u001b[43m     \u001b[49m\u001b[43mweight_decay\u001b[49m\u001b[38;5;241;43m=\u001b[39;49m\u001b[43mweight_decay\u001b[49m\u001b[43m,\u001b[49m\n\u001b[1;32m    330\u001b[0m \u001b[43m     \u001b[49m\u001b[43meps\u001b[49m\u001b[38;5;241;43m=\u001b[39;49m\u001b[43meps\u001b[49m\u001b[43m,\u001b[49m\n\u001b[1;32m    331\u001b[0m \u001b[43m     \u001b[49m\u001b[43mmaximize\u001b[49m\u001b[38;5;241;43m=\u001b[39;49m\u001b[43mmaximize\u001b[49m\u001b[43m,\u001b[49m\n\u001b[1;32m    332\u001b[0m \u001b[43m     \u001b[49m\u001b[43mcapturable\u001b[49m\u001b[38;5;241;43m=\u001b[39;49m\u001b[43mcapturable\u001b[49m\u001b[43m,\u001b[49m\n\u001b[1;32m    333\u001b[0m \u001b[43m     \u001b[49m\u001b[43mdifferentiable\u001b[49m\u001b[38;5;241;43m=\u001b[39;49m\u001b[43mdifferentiable\u001b[49m\u001b[43m,\u001b[49m\n\u001b[1;32m    334\u001b[0m \u001b[43m     \u001b[49m\u001b[43mgrad_scale\u001b[49m\u001b[38;5;241;43m=\u001b[39;49m\u001b[43mgrad_scale\u001b[49m\u001b[43m,\u001b[49m\n\u001b[1;32m    335\u001b[0m \u001b[43m     \u001b[49m\u001b[43mfound_inf\u001b[49m\u001b[38;5;241;43m=\u001b[39;49m\u001b[43mfound_inf\u001b[49m\u001b[43m)\u001b[49m\n",
      "File \u001b[0;32m~/.conda/envs/vlab/lib/python3.12/site-packages/torch/optim/adam.py:394\u001b[0m, in \u001b[0;36m_single_tensor_adam\u001b[0;34m(params, grads, exp_avgs, exp_avg_sqs, max_exp_avg_sqs, state_steps, grad_scale, found_inf, amsgrad, has_complex, beta1, beta2, lr, weight_decay, eps, maximize, capturable, differentiable)\u001b[0m\n\u001b[1;32m    392\u001b[0m \u001b[38;5;66;03m# Decay the first and second moment running average coefficient\u001b[39;00m\n\u001b[1;32m    393\u001b[0m exp_avg\u001b[38;5;241m.\u001b[39mlerp_(grad, \u001b[38;5;241m1\u001b[39m \u001b[38;5;241m-\u001b[39m beta1)\n\u001b[0;32m--> 394\u001b[0m \u001b[43mexp_avg_sq\u001b[49m\u001b[38;5;241;43m.\u001b[39;49m\u001b[43mmul_\u001b[49m\u001b[43m(\u001b[49m\u001b[43mbeta2\u001b[49m\u001b[43m)\u001b[49m\u001b[38;5;241;43m.\u001b[39;49m\u001b[43maddcmul_\u001b[49m\u001b[43m(\u001b[49m\u001b[43mgrad\u001b[49m\u001b[43m,\u001b[49m\u001b[43m \u001b[49m\u001b[43mgrad\u001b[49m\u001b[38;5;241;43m.\u001b[39;49m\u001b[43mconj\u001b[49m\u001b[43m(\u001b[49m\u001b[43m)\u001b[49m\u001b[43m,\u001b[49m\u001b[43m \u001b[49m\u001b[43mvalue\u001b[49m\u001b[38;5;241;43m=\u001b[39;49m\u001b[38;5;241;43m1\u001b[39;49m\u001b[43m \u001b[49m\u001b[38;5;241;43m-\u001b[39;49m\u001b[43m \u001b[49m\u001b[43mbeta2\u001b[49m\u001b[43m)\u001b[49m\n\u001b[1;32m    396\u001b[0m \u001b[38;5;28;01mif\u001b[39;00m capturable \u001b[38;5;129;01mor\u001b[39;00m differentiable:\n\u001b[1;32m    397\u001b[0m     step \u001b[38;5;241m=\u001b[39m step_t\n",
      "\u001b[0;31mKeyboardInterrupt\u001b[0m: "
     ]
    }
   ],
   "source": [
    "from tqdm.auto import tqdm\n",
    "progress_bar = tqdm(range(num_training_steps))\n",
    "\n",
    "model.train()\n",
    "\n",
    "for epoch in range(num_epochs):\n",
    "    epoch_cum_loss = 0\n",
    "    for i, batch in enumerate(train_dataloader):\n",
    "        optimizer.zero_grad()\n",
    "        X, y = batch[0].to(device), batch[1].to(device)\n",
    "        attention_mask = X>1\n",
    "        pred = torch.sigmoid(model(X, attention_mask=attention_mask).logits)\n",
    "        pred = pred.reshape(y.shape)\n",
    "        loss = criterion(pred.float(), y.float())\n",
    "        epoch_cum_loss += loss\n",
    "        print(f'batch number {i}, batch cumloss {epoch_cum_loss/(i+1)}')\n",
    "        loss.backward()\n",
    "        optimizer.step()\n",
    "        lr_scheduler.step()\n",
    "        progress_bar.update(1)\n",
    "        \n",
    "            \n",
    "\n"
   ]
  },
  {
   "cell_type": "code",
   "execution_count": 22,
   "metadata": {},
   "outputs": [
    {
     "name": "stderr",
     "output_type": "stream",
     "text": [
      "You're using a RobertaTokenizerFast tokenizer. Please note that with a fast tokenizer, using the `__call__` method is faster than using a method to encode the text followed by a call to the `pad` method to get a padded encoding.\n"
     ]
    },
    {
     "ename": "RuntimeError",
     "evalue": "Tensor.__contains__ only supports Tensor or scalar, but you passed in a <class 'str'>.",
     "output_type": "error",
     "traceback": [
      "\u001b[0;31m---------------------------------------------------------------------------\u001b[0m",
      "\u001b[0;31mRuntimeError\u001b[0m                              Traceback (most recent call last)",
      "Cell \u001b[0;32mIn[22], line 1\u001b[0m\n\u001b[0;32m----> 1\u001b[0m \u001b[43mtokenizer\u001b[49m\u001b[38;5;241;43m.\u001b[39;49m\u001b[43mpad\u001b[49m\u001b[43m(\u001b[49m\u001b[43mX\u001b[49m\u001b[43m)\u001b[49m\n",
      "File \u001b[0;32m~/.conda/envs/vlab/lib/python3.12/site-packages/transformers/tokenization_utils_base.py:3273\u001b[0m, in \u001b[0;36mPreTrainedTokenizerBase.pad\u001b[0;34m(self, encoded_inputs, padding, max_length, pad_to_multiple_of, return_attention_mask, return_tensors, verbose)\u001b[0m\n\u001b[1;32m   3270\u001b[0m     encoded_inputs \u001b[38;5;241m=\u001b[39m {key: [example[key] \u001b[38;5;28;01mfor\u001b[39;00m example \u001b[38;5;129;01min\u001b[39;00m encoded_inputs] \u001b[38;5;28;01mfor\u001b[39;00m key \u001b[38;5;129;01min\u001b[39;00m encoded_inputs[\u001b[38;5;241m0\u001b[39m]\u001b[38;5;241m.\u001b[39mkeys()}\n\u001b[1;32m   3272\u001b[0m \u001b[38;5;66;03m# The model's main input name, usually `input_ids`, has be passed for padding\u001b[39;00m\n\u001b[0;32m-> 3273\u001b[0m \u001b[38;5;28;01mif\u001b[39;00m \u001b[38;5;28;43mself\u001b[39;49m\u001b[38;5;241;43m.\u001b[39;49m\u001b[43mmodel_input_names\u001b[49m\u001b[43m[\u001b[49m\u001b[38;5;241;43m0\u001b[39;49m\u001b[43m]\u001b[49m\u001b[43m \u001b[49m\u001b[38;5;129;43;01mnot\u001b[39;49;00m\u001b[43m \u001b[49m\u001b[38;5;129;43;01min\u001b[39;49;00m\u001b[43m \u001b[49m\u001b[43mencoded_inputs\u001b[49m:\n\u001b[1;32m   3274\u001b[0m     \u001b[38;5;28;01mraise\u001b[39;00m \u001b[38;5;167;01mValueError\u001b[39;00m(\n\u001b[1;32m   3275\u001b[0m         \u001b[38;5;124m\"\u001b[39m\u001b[38;5;124mYou should supply an encoding or a list of encodings to this method \u001b[39m\u001b[38;5;124m\"\u001b[39m\n\u001b[1;32m   3276\u001b[0m         \u001b[38;5;124mf\u001b[39m\u001b[38;5;124m\"\u001b[39m\u001b[38;5;124mthat includes \u001b[39m\u001b[38;5;132;01m{\u001b[39;00m\u001b[38;5;28mself\u001b[39m\u001b[38;5;241m.\u001b[39mmodel_input_names[\u001b[38;5;241m0\u001b[39m]\u001b[38;5;132;01m}\u001b[39;00m\u001b[38;5;124m, but you provided \u001b[39m\u001b[38;5;132;01m{\u001b[39;00m\u001b[38;5;28mlist\u001b[39m(encoded_inputs\u001b[38;5;241m.\u001b[39mkeys())\u001b[38;5;132;01m}\u001b[39;00m\u001b[38;5;124m\"\u001b[39m\n\u001b[1;32m   3277\u001b[0m     )\n\u001b[1;32m   3279\u001b[0m required_input \u001b[38;5;241m=\u001b[39m encoded_inputs[\u001b[38;5;28mself\u001b[39m\u001b[38;5;241m.\u001b[39mmodel_input_names[\u001b[38;5;241m0\u001b[39m]]\n",
      "File \u001b[0;32m~/.conda/envs/vlab/lib/python3.12/site-packages/torch/_tensor.py:1118\u001b[0m, in \u001b[0;36mTensor.__contains__\u001b[0;34m(self, element)\u001b[0m\n\u001b[1;32m   1112\u001b[0m \u001b[38;5;28;01mif\u001b[39;00m \u001b[38;5;28misinstance\u001b[39m(\n\u001b[1;32m   1113\u001b[0m     element, (torch\u001b[38;5;241m.\u001b[39mTensor, Number, torch\u001b[38;5;241m.\u001b[39mSymInt, torch\u001b[38;5;241m.\u001b[39mSymFloat, torch\u001b[38;5;241m.\u001b[39mSymBool)\n\u001b[1;32m   1114\u001b[0m ):\n\u001b[1;32m   1115\u001b[0m     \u001b[38;5;66;03m# type hint doesn't understand the __contains__ result array\u001b[39;00m\n\u001b[1;32m   1116\u001b[0m     \u001b[38;5;28;01mreturn\u001b[39;00m (element \u001b[38;5;241m==\u001b[39m \u001b[38;5;28mself\u001b[39m)\u001b[38;5;241m.\u001b[39many()\u001b[38;5;241m.\u001b[39mitem()  \u001b[38;5;66;03m# type: ignore[union-attr]\u001b[39;00m\n\u001b[0;32m-> 1118\u001b[0m \u001b[38;5;28;01mraise\u001b[39;00m \u001b[38;5;167;01mRuntimeError\u001b[39;00m(\n\u001b[1;32m   1119\u001b[0m     \u001b[38;5;124mf\u001b[39m\u001b[38;5;124m\"\u001b[39m\u001b[38;5;124mTensor.__contains__ only supports Tensor or scalar, but you passed in a \u001b[39m\u001b[38;5;132;01m{\u001b[39;00m\u001b[38;5;28mtype\u001b[39m(element)\u001b[38;5;132;01m}\u001b[39;00m\u001b[38;5;124m.\u001b[39m\u001b[38;5;124m\"\u001b[39m\n\u001b[1;32m   1120\u001b[0m )\n",
      "\u001b[0;31mRuntimeError\u001b[0m: Tensor.__contains__ only supports Tensor or scalar, but you passed in a <class 'str'>."
     ]
    }
   ],
   "source": [
    "tokenizer.pad(X)"
   ]
  },
  {
   "cell_type": "code",
   "execution_count": 25,
   "metadata": {},
   "outputs": [
    {
     "data": {
      "text/plain": [
       "tensor([[False,  True,  True,  True,  True,  True,  True,  True,  True,  True,\n",
       "          True,  True,  True,  True,  True,  True,  True,  True,  True,  True,\n",
       "          True,  True,  True,  True,  True,  True,  True,  True,  True,  True,\n",
       "          True,  True,  True,  True,  True,  True,  True,  True,  True,  True,\n",
       "          True,  True,  True,  True,  True,  True,  True,  True,  True,  True,\n",
       "          True, False, False, False, False, False, False, False, False, False,\n",
       "         False, False, False, False, False, False, False, False, False, False,\n",
       "         False, False, False, False, False, False, False, False, False, False,\n",
       "         False, False, False, False, False, False, False, False, False, False,\n",
       "         False, False, False, False, False, False, False, False, False, False,\n",
       "         False, False, False, False, False, False, False, False, False, False,\n",
       "         False, False, False, False, False, False, False, False, False, False,\n",
       "         False, False, False, False, False, False, False, False, False, False,\n",
       "         False, False, False, False, False, False, False, False, False, False,\n",
       "         False, False, False, False, False, False, False, False, False, False,\n",
       "         False, False, False, False, False, False, False, False, False, False,\n",
       "         False, False, False, False, False, False, False, False, False, False,\n",
       "         False, False, False, False, False, False, False, False, False, False,\n",
       "         False, False, False, False, False, False, False, False, False, False,\n",
       "         False, False, False, False, False, False, False, False, False, False,\n",
       "         False, False, False, False, False, False, False, False, False, False,\n",
       "         False, False, False, False, False, False, False, False, False, False,\n",
       "         False, False, False, False, False, False, False, False, False, False,\n",
       "         False, False, False, False, False, False, False, False, False, False,\n",
       "         False, False, False, False, False, False, False, False, False, False,\n",
       "         False, False, False, False, False, False, False, False, False, False,\n",
       "         False, False, False, False, False, False, False, False, False, False,\n",
       "         False, False, False, False, False, False, False, False, False, False,\n",
       "         False, False, False, False, False, False, False, False, False, False,\n",
       "         False, False, False, False, False, False, False, False, False, False,\n",
       "         False, False, False, False, False, False, False, False, False, False,\n",
       "         False, False, False, False, False, False, False, False, False, False,\n",
       "         False, False, False, False, False, False, False, False, False, False,\n",
       "         False, False, False, False, False, False, False, False, False, False,\n",
       "         False, False, False, False, False, False, False, False, False, False,\n",
       "         False, False, False, False, False, False, False, False, False, False,\n",
       "         False, False, False, False, False, False, False, False, False, False,\n",
       "         False, False, False, False, False, False, False, False, False, False,\n",
       "         False, False, False, False, False, False, False, False, False, False,\n",
       "         False, False, False, False, False, False, False, False, False, False,\n",
       "         False, False, False, False, False, False, False, False, False, False,\n",
       "         False, False, False, False, False, False, False, False, False, False,\n",
       "         False, False, False, False, False, False, False, False, False, False,\n",
       "         False, False, False, False, False, False, False, False, False, False,\n",
       "         False, False, False, False, False, False, False, False, False, False,\n",
       "         False, False, False, False, False, False, False, False, False, False,\n",
       "         False, False, False, False, False, False, False, False, False, False,\n",
       "         False, False, False, False, False, False, False, False, False, False,\n",
       "         False, False, False, False, False, False, False, False, False, False,\n",
       "         False, False, False, False, False, False, False, False, False, False,\n",
       "         False, False, False, False, False, False, False, False, False, False,\n",
       "         False, False]])"
      ]
     },
     "execution_count": 25,
     "metadata": {},
     "output_type": "execute_result"
    }
   ],
   "source": [
    "X>1"
   ]
  },
  {
   "cell_type": "code",
   "execution_count": 30,
   "metadata": {},
   "outputs": [
    {
     "data": {
      "text/plain": [
       "'<s>CC(=O)C1=CSC=C1.NO.Cl.C(=O)([O-])[O-].[Na+].[Na+]>>O>>C/C(=N/O)c1ccsc1</s><pad><pad><pad><pad><pad><pad><pad><pad><pad><pad><pad><pad><pad><pad><pad><pad><pad><pad><pad><pad><pad><pad><pad><pad><pad><pad><pad><pad><pad><pad><pad><pad><pad><pad><pad><pad><pad><pad><pad><pad><pad><pad><pad><pad><pad><pad><pad><pad><pad><pad><pad><pad><pad><pad><pad><pad><pad><pad><pad><pad><pad><pad><pad><pad><pad><pad><pad><pad><pad><pad><pad><pad><pad><pad><pad><pad><pad><pad><pad><pad><pad><pad><pad><pad><pad><pad><pad><pad><pad><pad><pad><pad><pad><pad><pad><pad><pad><pad><pad><pad><pad><pad><pad><pad><pad><pad><pad><pad><pad><pad><pad><pad><pad><pad><pad><pad><pad><pad><pad><pad><pad><pad><pad><pad><pad><pad><pad><pad><pad><pad><pad><pad><pad><pad><pad><pad><pad><pad><pad><pad><pad><pad><pad><pad><pad><pad><pad><pad><pad><pad><pad><pad><pad><pad><pad><pad><pad><pad><pad><pad><pad><pad><pad><pad><pad><pad><pad><pad><pad><pad><pad><pad><pad><pad><pad><pad><pad><pad><pad><pad><pad><pad><pad><pad><pad><pad><pad><pad><pad><pad><pad><pad><pad><pad><pad><pad><pad><pad><pad><pad><pad><pad><pad><pad><pad><pad><pad><pad><pad><pad><pad><pad><pad><pad><pad><pad><pad><pad><pad><pad><pad><pad><pad><pad><pad><pad><pad><pad><pad><pad><pad><pad><pad><pad><pad><pad><pad><pad><pad><pad><pad><pad><pad><pad><pad><pad><pad><pad><pad><pad><pad><pad><pad><pad><pad><pad><pad><pad><pad><pad><pad><pad><pad><pad><pad><pad><pad><pad><pad><pad><pad><pad><pad><pad><pad><pad><pad><pad><pad><pad><pad><pad><pad><pad><pad><pad><pad><pad><pad><pad><pad><pad><pad><pad><pad><pad><pad><pad><pad><pad><pad><pad><pad><pad><pad><pad><pad><pad><pad><pad><pad><pad><pad><pad><pad><pad><pad><pad><pad><pad><pad><pad><pad><pad><pad><pad><pad><pad><pad><pad><pad><pad><pad><pad><pad><pad><pad><pad><pad><pad><pad><pad><pad><pad><pad><pad><pad><pad><pad><pad><pad><pad><pad><pad><pad><pad><pad><pad><pad><pad><pad><pad><pad><pad><pad><pad><pad><pad><pad><pad><pad><pad><pad><pad><pad><pad><pad><pad><pad><pad><pad><pad><pad><pad><pad><pad><pad><pad><pad><pad><pad><pad><pad><pad><pad><pad><pad><pad><pad><pad><pad><pad><pad><pad><pad><pad><pad><pad><pad><pad><pad><pad><pad><pad><pad><pad><pad><pad><pad><pad><pad><pad><pad><pad><pad><pad><pad><pad><pad><pad><pad><pad><pad><pad><pad><pad><pad><pad><pad><pad><pad><pad><pad><pad><pad><pad><pad><pad><pad><pad><pad><pad><pad><pad><pad><pad><pad><pad><pad><pad><pad>'"
      ]
     },
     "execution_count": 30,
     "metadata": {},
     "output_type": "execute_result"
    }
   ],
   "source": [
    "tokenizer.decode(X.reshape(512))"
   ]
  },
  {
   "cell_type": "code",
   "execution_count": 29,
   "metadata": {},
   "outputs": [
    {
     "data": {
      "text/plain": [
       "torch.Size([1, 512])"
      ]
     },
     "execution_count": 29,
     "metadata": {},
     "output_type": "execute_result"
    }
   ],
   "source": [
    "X.shape"
   ]
  },
  {
   "cell_type": "code",
   "execution_count": null,
   "metadata": {},
   "outputs": [],
   "source": []
  }
 ],
 "metadata": {
  "kernelspec": {
   "display_name": "vlab",
   "language": "python",
   "name": "python3"
  },
  "language_info": {
   "codemirror_mode": {
    "name": "ipython",
    "version": 3
   },
   "file_extension": ".py",
   "mimetype": "text/x-python",
   "name": "python",
   "nbconvert_exporter": "python",
   "pygments_lexer": "ipython3",
   "version": "3.12.3"
  }
 },
 "nbformat": 4,
 "nbformat_minor": 2
}
